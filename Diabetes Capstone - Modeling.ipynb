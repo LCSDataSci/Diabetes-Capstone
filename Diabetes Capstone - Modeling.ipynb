{
 "cells": [
  {
   "cell_type": "markdown",
   "metadata": {},
   "source": [
    "# Capstone 3"
   ]
  },
  {
   "cell_type": "markdown",
   "metadata": {},
   "source": [
    "## Modeling"
   ]
  },
  {
   "cell_type": "markdown",
   "metadata": {},
   "source": [
    "Now that we've cleaned, wrangled, and pre-processed the data, it's time to create some models for our client. We want to determine which model works best for our client's needs. To that end, we've decided to focus on the recall of the models, as our client is more likely to tolerate false positives than false negatives of our target variable, \"Prediabetic or Diabetic.\" Specifically, since we are most interested in which patients are \"Prediabetic or Diabetic\" instead of \"Nondiabetic,\" VFH would be most tolerant of our models falsely classifying patients as \"Prediabetic or Diabetic\" when they are actually \"Nondiabetic\" than the reverse."
   ]
  },
  {
   "cell_type": "markdown",
   "metadata": {},
   "source": [
    "## 1. Table of Contents"
   ]
  },
  {
   "cell_type": "markdown",
   "metadata": {},
   "source": [
    "[1. Table of Contents](#1.-Table-of-Contents)\n",
    "\n",
    "[2. Import Packages](#2.-Import-Packages)\n",
    "\n",
    "[3. Load Data](#3.-Load-Data)\n",
    "\n",
    "[4. Explore the Data](#4.-Explore-the-Data)\n",
    "\n",
    "[5. Resampling Techniques](#5.-Resampling-Techniques)\n",
    "\n",
    "[6. Logistic Regression](#6.-Logistic-Regression)\n",
    "\n",
    "[7. Random Forest](#7.-Random-Forest)\n",
    "\n",
    "[8. XGBoost](#8.-XGBoost)\n",
    "\n",
    "[9. Summary & Next Steps](#9.-Summary-&-Next-Steps)\n",
    "\n",
    "[10. Hyperparameter Tuning](#10.-Hyperparameter-Tuning)\n",
    "\n",
    "[11. Feature Importances](#11.-Feature-Importances)"
   ]
  },
  {
   "cell_type": "markdown",
   "metadata": {},
   "source": [
    "## 2. Import Packages"
   ]
  },
  {
   "cell_type": "code",
   "execution_count": 9,
   "metadata": {},
   "outputs": [],
   "source": [
    "import pandas as pd\n",
    "import numpy as np\n",
    "import os\n",
    "import pickle\n",
    "import matplotlib.pyplot as plt\n",
    "import seaborn as sns\n",
    "from sklearn import __version__ as sklearn_version\n",
    "from sklearn.decomposition import PCA\n",
    "from sklearn.preprocessing import scale\n",
    "from sklearn.model_selection import train_test_split, cross_validate, GridSearchCV, learning_curve\n",
    "from sklearn.preprocessing import StandardScaler, MinMaxScaler\n",
    "from sklearn.dummy import DummyRegressor\n",
    "from sklearn.linear_model import LinearRegression\n",
    "from sklearn.ensemble import RandomForestRegressor\n",
    "from sklearn.metrics import r2_score, mean_squared_error, mean_absolute_error\n",
    "from sklearn.pipeline import make_pipeline\n",
    "from sklearn.impute import SimpleImputer\n",
    "from sklearn.feature_selection import SelectKBest, f_regression\n",
    "import datetime\n",
    "from sklearn.linear_model import LogisticRegression\n",
    "from sklearn.metrics import accuracy_score\n",
    "from sklearn import metrics\n",
    "from sklearn.metrics import plot_confusion_matrix, classification_report,confusion_matrix\n",
    "from sklearn.metrics import accuracy_score ,confusion_matrix,classification_report,plot_confusion_matrix"
   ]
  },
  {
   "cell_type": "markdown",
   "metadata": {},
   "source": [
    "## 3. Load Data"
   ]
  },
  {
   "cell_type": "code",
   "execution_count": 10,
   "metadata": {},
   "outputs": [],
   "source": [
    "X_train = pd.read_csv('/Users/lauren/Desktop/Diabetes_X_train.csv', index_col=0)\n",
    "X_test = pd.read_csv('/Users/lauren/Desktop/Diabetes_X_test.csv', index_col=0)\n",
    "y_train = pd.read_csv('/Users/lauren/Desktop/Diabetes_y_train.csv', index_col=0)\n",
    "y_test = pd.read_csv('/Users/lauren/Desktop/Diabetes_y_test.csv', index_col=0)"
   ]
  },
  {
   "cell_type": "markdown",
   "metadata": {},
   "source": [
    "## 4. Explore the Data"
   ]
  },
  {
   "cell_type": "code",
   "execution_count": 11,
   "metadata": {},
   "outputs": [
    {
     "name": "stdout",
     "output_type": "stream",
     "text": [
      "<class 'pandas.core.frame.DataFrame'>\n",
      "Int64Index: 177576 entries, 78513 to 9224\n",
      "Data columns (total 21 columns):\n",
      " #   Column                Non-Null Count   Dtype  \n",
      "---  ------                --------------   -----  \n",
      " 0   HighBP                177576 non-null  float64\n",
      " 1   HighChol              177576 non-null  float64\n",
      " 2   CholCheck             177576 non-null  float64\n",
      " 3   BMI                   177576 non-null  float64\n",
      " 4   Smoker                177576 non-null  float64\n",
      " 5   Stroke                177576 non-null  float64\n",
      " 6   HeartDiseaseorAttack  177576 non-null  float64\n",
      " 7   PhysActivity          177576 non-null  float64\n",
      " 8   Fruits                177576 non-null  float64\n",
      " 9   Veggies               177576 non-null  float64\n",
      " 10  HvyAlcoholConsump     177576 non-null  float64\n",
      " 11  AnyHealthcare         177576 non-null  float64\n",
      " 12  NoDocbcCost           177576 non-null  float64\n",
      " 13  GenHlth               177576 non-null  float64\n",
      " 14  MentHlth              177576 non-null  float64\n",
      " 15  PhysHlth              177576 non-null  float64\n",
      " 16  DiffWalk              177576 non-null  float64\n",
      " 17  Sex                   177576 non-null  float64\n",
      " 18  Age                   177576 non-null  float64\n",
      " 19  Education             177576 non-null  float64\n",
      " 20  Income                177576 non-null  float64\n",
      "dtypes: float64(21)\n",
      "memory usage: 29.8 MB\n"
     ]
    }
   ],
   "source": [
    "X_train.info()"
   ]
  },
  {
   "cell_type": "code",
   "execution_count": 12,
   "metadata": {},
   "outputs": [
    {
     "name": "stdout",
     "output_type": "stream",
     "text": [
      "<class 'pandas.core.frame.DataFrame'>\n",
      "Int64Index: 76104 entries, 226430 to 88662\n",
      "Data columns (total 21 columns):\n",
      " #   Column                Non-Null Count  Dtype  \n",
      "---  ------                --------------  -----  \n",
      " 0   HighBP                76104 non-null  float64\n",
      " 1   HighChol              76104 non-null  float64\n",
      " 2   CholCheck             76104 non-null  float64\n",
      " 3   BMI                   76104 non-null  float64\n",
      " 4   Smoker                76104 non-null  float64\n",
      " 5   Stroke                76104 non-null  float64\n",
      " 6   HeartDiseaseorAttack  76104 non-null  float64\n",
      " 7   PhysActivity          76104 non-null  float64\n",
      " 8   Fruits                76104 non-null  float64\n",
      " 9   Veggies               76104 non-null  float64\n",
      " 10  HvyAlcoholConsump     76104 non-null  float64\n",
      " 11  AnyHealthcare         76104 non-null  float64\n",
      " 12  NoDocbcCost           76104 non-null  float64\n",
      " 13  GenHlth               76104 non-null  float64\n",
      " 14  MentHlth              76104 non-null  float64\n",
      " 15  PhysHlth              76104 non-null  float64\n",
      " 16  DiffWalk              76104 non-null  float64\n",
      " 17  Sex                   76104 non-null  float64\n",
      " 18  Age                   76104 non-null  float64\n",
      " 19  Education             76104 non-null  float64\n",
      " 20  Income                76104 non-null  float64\n",
      "dtypes: float64(21)\n",
      "memory usage: 12.8 MB\n"
     ]
    }
   ],
   "source": [
    "X_test.info()"
   ]
  },
  {
   "cell_type": "code",
   "execution_count": 13,
   "metadata": {},
   "outputs": [
    {
     "name": "stdout",
     "output_type": "stream",
     "text": [
      "<class 'pandas.core.frame.DataFrame'>\n",
      "Int64Index: 177576 entries, 78513 to 9224\n",
      "Data columns (total 1 columns):\n",
      " #   Column           Non-Null Count   Dtype  \n",
      "---  ------           --------------   -----  \n",
      " 0   Diabetes_binary  177576 non-null  float64\n",
      "dtypes: float64(1)\n",
      "memory usage: 2.7 MB\n"
     ]
    }
   ],
   "source": [
    "y_train.info()"
   ]
  },
  {
   "cell_type": "code",
   "execution_count": 14,
   "metadata": {},
   "outputs": [
    {
     "name": "stdout",
     "output_type": "stream",
     "text": [
      "<class 'pandas.core.frame.DataFrame'>\n",
      "Int64Index: 76104 entries, 226430 to 88662\n",
      "Data columns (total 1 columns):\n",
      " #   Column           Non-Null Count  Dtype  \n",
      "---  ------           --------------  -----  \n",
      " 0   Diabetes_binary  76104 non-null  float64\n",
      "dtypes: float64(1)\n",
      "memory usage: 1.2 MB\n"
     ]
    }
   ],
   "source": [
    "y_test.info()"
   ]
  },
  {
   "cell_type": "code",
   "execution_count": 15,
   "metadata": {},
   "outputs": [
    {
     "data": {
      "text/plain": [
       "Diabetes_binary\n",
       "0.0                152834\n",
       "1.0                 24742\n",
       "dtype: int64"
      ]
     },
     "execution_count": 15,
     "metadata": {},
     "output_type": "execute_result"
    }
   ],
   "source": [
    "y_train.value_counts()"
   ]
  },
  {
   "cell_type": "code",
   "execution_count": 16,
   "metadata": {},
   "outputs": [
    {
     "data": {
      "text/plain": [
       "Diabetes_binary\n",
       "0.0                65500\n",
       "1.0                10604\n",
       "dtype: int64"
      ]
     },
     "execution_count": 16,
     "metadata": {},
     "output_type": "execute_result"
    }
   ],
   "source": [
    "y_test.value_counts()"
   ]
  },
  {
   "cell_type": "markdown",
   "metadata": {},
   "source": [
    "## 5. Resampling Techniques"
   ]
  },
  {
   "cell_type": "markdown",
   "metadata": {},
   "source": [
    "There are two resampling techniquest that we will use: undersampling and oversampling.  First, we will look at undersampling:"
   ]
  },
  {
   "cell_type": "markdown",
   "metadata": {},
   "source": [
    "### 5.1 Undersampling"
   ]
  },
  {
   "cell_type": "code",
   "execution_count": 17,
   "metadata": {},
   "outputs": [
    {
     "data": {
      "text/html": [
       "<div>\n",
       "<style scoped>\n",
       "    .dataframe tbody tr th:only-of-type {\n",
       "        vertical-align: middle;\n",
       "    }\n",
       "\n",
       "    .dataframe tbody tr th {\n",
       "        vertical-align: top;\n",
       "    }\n",
       "\n",
       "    .dataframe thead th {\n",
       "        text-align: right;\n",
       "    }\n",
       "</style>\n",
       "<table border=\"1\" class=\"dataframe\">\n",
       "  <thead>\n",
       "    <tr style=\"text-align: right;\">\n",
       "      <th></th>\n",
       "      <th>technique</th>\n",
       "      <th>X_train_shape</th>\n",
       "      <th>y_train_shape</th>\n",
       "      <th>Prediabetic or Diabetic</th>\n",
       "      <th>Nondiabetic</th>\n",
       "    </tr>\n",
       "  </thead>\n",
       "  <tbody>\n",
       "    <tr>\n",
       "      <th>0</th>\n",
       "      <td>Original Data</td>\n",
       "      <td>177576</td>\n",
       "      <td>177576</td>\n",
       "      <td>24742</td>\n",
       "      <td>152834</td>\n",
       "    </tr>\n",
       "  </tbody>\n",
       "</table>\n",
       "</div>"
      ],
      "text/plain": [
       "       technique  X_train_shape  y_train_shape  Prediabetic or Diabetic  \\\n",
       "0  Original Data         177576         177576                    24742   \n",
       "\n",
       "   Nondiabetic  \n",
       "0       152834  "
      ]
     },
     "execution_count": 17,
     "metadata": {},
     "output_type": "execute_result"
    }
   ],
   "source": [
    "counts_table = pd.DataFrame()\n",
    "\n",
    "counts_table['technique'] = ['Original Data']\n",
    "counts_table['X_train_shape'] = [X_train.shape[0]]\n",
    "counts_table['y_train_shape'] = [y_train.shape[0]]\n",
    "counts_table['Prediabetic or Diabetic'] = [y_train.value_counts()[1]]\n",
    "counts_table['Nondiabetic'] = [y_train.value_counts()[0]]\n",
    "\n",
    "counts_table"
   ]
  },
  {
   "cell_type": "code",
   "execution_count": 18,
   "metadata": {},
   "outputs": [],
   "source": [
    "from imblearn.under_sampling import RandomUnderSampler\n",
    "\n",
    "rus = RandomUnderSampler(random_state=42, replacement=True)\n",
    "\n",
    "X_train_rus, y_train_rus = rus.fit_sample(X_train, y_train)"
   ]
  },
  {
   "cell_type": "code",
   "execution_count": 19,
   "metadata": {},
   "outputs": [
    {
     "data": {
      "text/html": [
       "<div>\n",
       "<style scoped>\n",
       "    .dataframe tbody tr th:only-of-type {\n",
       "        vertical-align: middle;\n",
       "    }\n",
       "\n",
       "    .dataframe tbody tr th {\n",
       "        vertical-align: top;\n",
       "    }\n",
       "\n",
       "    .dataframe thead th {\n",
       "        text-align: right;\n",
       "    }\n",
       "</style>\n",
       "<table border=\"1\" class=\"dataframe\">\n",
       "  <thead>\n",
       "    <tr style=\"text-align: right;\">\n",
       "      <th></th>\n",
       "      <th>technique</th>\n",
       "      <th>X_train_shape</th>\n",
       "      <th>y_train_shape</th>\n",
       "      <th>Prediabetic or Diabetic</th>\n",
       "      <th>Nondiabetic</th>\n",
       "    </tr>\n",
       "  </thead>\n",
       "  <tbody>\n",
       "    <tr>\n",
       "      <th>0</th>\n",
       "      <td>Original Data</td>\n",
       "      <td>177576</td>\n",
       "      <td>177576</td>\n",
       "      <td>24742</td>\n",
       "      <td>152834</td>\n",
       "    </tr>\n",
       "    <tr>\n",
       "      <th>1</th>\n",
       "      <td>Random Under Sampling</td>\n",
       "      <td>49484</td>\n",
       "      <td>49484</td>\n",
       "      <td>24742</td>\n",
       "      <td>24742</td>\n",
       "    </tr>\n",
       "  </tbody>\n",
       "</table>\n",
       "</div>"
      ],
      "text/plain": [
       "               technique  X_train_shape  y_train_shape  \\\n",
       "0          Original Data         177576         177576   \n",
       "1  Random Under Sampling          49484          49484   \n",
       "\n",
       "   Prediabetic or Diabetic  Nondiabetic  \n",
       "0                    24742       152834  \n",
       "1                    24742        24742  "
      ]
     },
     "execution_count": 19,
     "metadata": {},
     "output_type": "execute_result"
    }
   ],
   "source": [
    "new_row = {'technique':'Random Under Sampling', \n",
    "           'X_train_shape': X_train_rus.shape[0],\n",
    "          'y_train_shape': y_train_rus.shape[0],\n",
    "           'Prediabetic or Diabetic': y_train_rus.value_counts()[1],\n",
    "          'Nondiabetic': y_train_rus.value_counts()[0]}\n",
    "\n",
    "counts_table = counts_table.append(new_row, ignore_index=True)\n",
    "counts_table"
   ]
  },
  {
   "cell_type": "markdown",
   "metadata": {},
   "source": [
    "### 5.2 SMOTE"
   ]
  },
  {
   "cell_type": "code",
   "execution_count": 20,
   "metadata": {},
   "outputs": [],
   "source": [
    "from imblearn.over_sampling import SMOTE\n",
    "\n",
    "smote = SMOTE(random_state=42, sampling_strategy = 'minority')\n",
    "\n",
    "X_train_sm, y_train_sm = smote.fit_sample(X_train, y_train)"
   ]
  },
  {
   "cell_type": "code",
   "execution_count": 21,
   "metadata": {},
   "outputs": [
    {
     "data": {
      "text/html": [
       "<div>\n",
       "<style scoped>\n",
       "    .dataframe tbody tr th:only-of-type {\n",
       "        vertical-align: middle;\n",
       "    }\n",
       "\n",
       "    .dataframe tbody tr th {\n",
       "        vertical-align: top;\n",
       "    }\n",
       "\n",
       "    .dataframe thead th {\n",
       "        text-align: right;\n",
       "    }\n",
       "</style>\n",
       "<table border=\"1\" class=\"dataframe\">\n",
       "  <thead>\n",
       "    <tr style=\"text-align: right;\">\n",
       "      <th></th>\n",
       "      <th>technique</th>\n",
       "      <th>X_train_shape</th>\n",
       "      <th>y_train_shape</th>\n",
       "      <th>Prediabetic or Diabetic</th>\n",
       "      <th>Nondiabetic</th>\n",
       "    </tr>\n",
       "  </thead>\n",
       "  <tbody>\n",
       "    <tr>\n",
       "      <th>0</th>\n",
       "      <td>Original Data</td>\n",
       "      <td>177576</td>\n",
       "      <td>177576</td>\n",
       "      <td>24742</td>\n",
       "      <td>152834</td>\n",
       "    </tr>\n",
       "    <tr>\n",
       "      <th>1</th>\n",
       "      <td>Random Under Sampling</td>\n",
       "      <td>49484</td>\n",
       "      <td>49484</td>\n",
       "      <td>24742</td>\n",
       "      <td>24742</td>\n",
       "    </tr>\n",
       "    <tr>\n",
       "      <th>2</th>\n",
       "      <td>SMOTE - minority</td>\n",
       "      <td>305668</td>\n",
       "      <td>305668</td>\n",
       "      <td>152834</td>\n",
       "      <td>152834</td>\n",
       "    </tr>\n",
       "  </tbody>\n",
       "</table>\n",
       "</div>"
      ],
      "text/plain": [
       "               technique  X_train_shape  y_train_shape  \\\n",
       "0          Original Data         177576         177576   \n",
       "1  Random Under Sampling          49484          49484   \n",
       "2       SMOTE - minority         305668         305668   \n",
       "\n",
       "   Prediabetic or Diabetic  Nondiabetic  \n",
       "0                    24742       152834  \n",
       "1                    24742        24742  \n",
       "2                   152834       152834  "
      ]
     },
     "execution_count": 21,
     "metadata": {},
     "output_type": "execute_result"
    }
   ],
   "source": [
    "new_row = {'technique':'SMOTE - minority', \n",
    "           'X_train_shape': X_train_sm.shape[0],\n",
    "          'y_train_shape': y_train_sm.shape[0],\n",
    "           'Prediabetic or Diabetic': y_train_sm.value_counts()[1],\n",
    "          'Nondiabetic': y_train_sm.value_counts()[0]}\n",
    "\n",
    "counts_table = counts_table.append(new_row, ignore_index=True)\n",
    "counts_table"
   ]
  },
  {
   "cell_type": "code",
   "execution_count": 22,
   "metadata": {},
   "outputs": [],
   "source": [
    "X_train_np = X_train.to_numpy()\n",
    "y_train_np = y_train.to_numpy().ravel()\n",
    "X_train_rus_np = X_train_rus.to_numpy()\n",
    "y_train_rus_np = y_train_rus.to_numpy().ravel()\n",
    "X_train_sm_np = X_train_sm.to_numpy()\n",
    "y_train_sm_np = y_train_sm.to_numpy().ravel()\n",
    "\n",
    "X_test_np = X_test.to_numpy()\n",
    "y_test_np = y_test.to_numpy().ravel()"
   ]
  },
  {
   "cell_type": "code",
   "execution_count": 23,
   "metadata": {},
   "outputs": [
    {
     "name": "stdout",
     "output_type": "stream",
     "text": [
      "(177576, 21) (177576,)\n",
      "(49484, 21) (49484,)\n",
      "(305668, 21) (305668,)\n"
     ]
    }
   ],
   "source": [
    "print(X_train_np.shape, y_train_np.shape)\n",
    "print(X_train_rus_np.shape, y_train_rus_np.shape)\n",
    "print(X_train_sm_np.shape, y_train_sm_np.shape)"
   ]
  },
  {
   "cell_type": "markdown",
   "metadata": {},
   "source": [
    "## 6. Logistic Regression"
   ]
  },
  {
   "cell_type": "markdown",
   "metadata": {},
   "source": [
    "### 6.1 Random Under Sampling"
   ]
  },
  {
   "cell_type": "code",
   "execution_count": 24,
   "metadata": {},
   "outputs": [],
   "source": [
    "from sklearn.linear_model import LogisticRegression\n",
    "\n",
    "lr_rus = LogisticRegression(solver = 'saga', random_state=42, max_iter = 2000)\n",
    "# Fit the model on the training data.\n",
    "lr_rus.fit(X_train_rus_np, y_train_rus_np)\n",
    "\n",
    "y_pred_train_1a = lr_rus.predict(X_train_rus_np)\n",
    "y_pred_test_1a = lr_rus.predict(X_test_np)"
   ]
  },
  {
   "cell_type": "code",
   "execution_count": 25,
   "metadata": {},
   "outputs": [],
   "source": [
    "cm_1a_train = confusion_matrix(y_train_rus_np, y_pred_train_1a)\n",
    "cm_1a_test = confusion_matrix(y_test_np, y_pred_test_1a)"
   ]
  },
  {
   "cell_type": "code",
   "execution_count": 26,
   "metadata": {},
   "outputs": [
    {
     "data": {
      "text/plain": [
       "Text(0.5, 1.0, 'LogisticRegression RUS - Testing confusion matrix')"
      ]
     },
     "execution_count": 26,
     "metadata": {},
     "output_type": "execute_result"
    },
    {
     "data": {
      "image/png": "[encoded data removed]",
      "text/plain": [
       "<Figure size 864x360 with 4 Axes>"
      ]
     },
     "metadata": {
      "needs_background": "light"
     },
     "output_type": "display_data"
    }
   ],
   "source": [
    "fig, ax = plt.subplots(1,2, figsize=(12,5))\n",
    "sns.heatmap(cm_1a_train, annot=True, fmt = '', cmap = 'Blues',ax = ax[0])\n",
    "ax[0].set_xlabel('Predicted label')\n",
    "ax[0].set_ylabel('True label')\n",
    "ax[0].set_title('LogisticRegression RUS - Training confusion matrix')\n",
    "\n",
    "sns.heatmap(cm_1a_test, annot=True, fmt = '', cmap = 'Purples',ax = ax[1])\n",
    "ax[1].set_xlabel('Predicted label')\n",
    "ax[1].set_ylabel('True label')\n",
    "ax[1].set_title('LogisticRegression RUS - Testing confusion matrix')"
   ]
  },
  {
   "cell_type": "code",
   "execution_count": 27,
   "metadata": {},
   "outputs": [
    {
     "name": "stdout",
     "output_type": "stream",
     "text": [
      "[Test Classification Report]\n",
      "                         precision    recall  f1-score   support\n",
      "\n",
      "            Nondiabetic       0.95      0.72      0.82     65500\n",
      "Prediabetic or Diabetic       0.31      0.77      0.44     10604\n",
      "\n",
      "               accuracy                           0.73     76104\n",
      "              macro avg       0.63      0.75      0.63     76104\n",
      "           weighted avg       0.86      0.73      0.77     76104\n",
      "\n"
     ]
    }
   ],
   "source": [
    "from sklearn.metrics import classification_report\n",
    "\n",
    "target_names = ['Nondiabetic', 'Prediabetic or Diabetic']\n",
    "\n",
    "print(\"[Test Classification Report]\")\n",
    "test_classification_report_1a = classification_report(y_test_np, y_pred_test_1a, target_names=target_names)\n",
    "print(test_classification_report_1a)"
   ]
  },
  {
   "cell_type": "markdown",
   "metadata": {},
   "source": [
    "### 6.2 SMOTE"
   ]
  },
  {
   "cell_type": "code",
   "execution_count": 28,
   "metadata": {},
   "outputs": [],
   "source": [
    "lr_sm = LogisticRegression(solver = 'saga', random_state=42, max_iter = 2000)\n",
    "# Fit the model on the training data.\n",
    "lr_sm.fit(X_train_sm_np, y_train_sm_np)\n",
    "\n",
    "y_pred_train_1b = lr_sm.predict(X_train_sm_np)\n",
    "y_pred_test_1b = lr_sm.predict(X_test_np)"
   ]
  },
  {
   "cell_type": "code",
   "execution_count": 29,
   "metadata": {},
   "outputs": [],
   "source": [
    "cm_1b_train = confusion_matrix(y_train_sm_np,y_pred_train_1b)\n",
    "cm_1b_test = confusion_matrix(y_test_np,y_pred_test_1b)"
   ]
  },
  {
   "cell_type": "code",
   "execution_count": 30,
   "metadata": {},
   "outputs": [
    {
     "data": {
      "text/plain": [
       "Text(0.5, 1.0, 'LogisticRegression SMOTE - Testing confusion matrix')"
      ]
     },
     "execution_count": 30,
     "metadata": {},
     "output_type": "execute_result"
    },
    {
     "data": {
      "image/png": "[encoded data removed]",
      "text/plain": [
       "<Figure size 864x360 with 4 Axes>"
      ]
     },
     "metadata": {
      "needs_background": "light"
     },
     "output_type": "display_data"
    }
   ],
   "source": [
    "fig, ax = plt.subplots(1,2, figsize=(12,5))\n",
    "sns.heatmap(cm_1b_train, annot=True, fmt = '', cmap = 'Blues',ax = ax[0])\n",
    "ax[0].set_xlabel('Predicted label')\n",
    "ax[0].set_ylabel('True label')\n",
    "ax[0].set_title('LogisticRegression SMOTE - Training confusion matrix')\n",
    "\n",
    "sns.heatmap(cm_1b_test, annot=True, fmt = '', cmap = 'Purples',ax = ax[1])\n",
    "ax[1].set_xlabel('Predicted label')\n",
    "ax[1].set_ylabel('True label')\n",
    "ax[1].set_title('LogisticRegression SMOTE - Testing confusion matrix')"
   ]
  },
  {
   "cell_type": "code",
   "execution_count": 31,
   "metadata": {},
   "outputs": [
    {
     "name": "stdout",
     "output_type": "stream",
     "text": [
      "[Test Classification Report]\n",
      "                         precision    recall  f1-score   support\n",
      "\n",
      "            Nondiabetic       0.95      0.72      0.82     65500\n",
      "Prediabetic or Diabetic       0.31      0.76      0.44     10604\n",
      "\n",
      "               accuracy                           0.73     76104\n",
      "              macro avg       0.63      0.74      0.63     76104\n",
      "           weighted avg       0.86      0.73      0.77     76104\n",
      "\n"
     ]
    }
   ],
   "source": [
    "target_names = ['Nondiabetic', 'Prediabetic or Diabetic']\n",
    "\n",
    "print(\"[Test Classification Report]\")\n",
    "test_classification_report_1b = classification_report(y_test_np, y_pred_test_1b, target_names=target_names)\n",
    "print(test_classification_report_1b)"
   ]
  },
  {
   "cell_type": "markdown",
   "metadata": {},
   "source": [
    "### 6.3 Balanced Weights of Classes"
   ]
  },
  {
   "cell_type": "code",
   "execution_count": 32,
   "metadata": {},
   "outputs": [
    {
     "name": "stderr",
     "output_type": "stream",
     "text": [
      "/Users/lauren/opt/anaconda3/lib/python3.8/site-packages/sklearn/linear_model/_sag.py:352: ConvergenceWarning: The max_iter was reached which means the coef_ did not converge\n",
      "  warnings.warn(\n"
     ]
    }
   ],
   "source": [
    "lr_balance = LogisticRegression(solver = 'saga', random_state = 42, class_weight = 'balanced')\n",
    "\n",
    "# Fit the model on the training data.\n",
    "lr_balance.fit(X_train_np, y_train_np)\n",
    "\n",
    "y_pred_train_1c = lr_balance.predict(X_train_np)\n",
    "y_pred_test_1c = lr_balance.predict(X_test_np)"
   ]
  },
  {
   "cell_type": "code",
   "execution_count": 33,
   "metadata": {},
   "outputs": [],
   "source": [
    "cm_1c_train = confusion_matrix(y_train_np,y_pred_train_1c)\n",
    "cm_1c_test = confusion_matrix(y_test_np,y_pred_test_1c)"
   ]
  },
  {
   "cell_type": "code",
   "execution_count": 34,
   "metadata": {},
   "outputs": [
    {
     "data": {
      "text/plain": [
       "Text(0.5, 1.0, 'LogisticRegression class_weight - Testing confusion matrix')"
      ]
     },
     "execution_count": 34,
     "metadata": {},
     "output_type": "execute_result"
    },
    {
     "data": {
      "image/png": "[encoded data removed]",
      "text/plain": [
       "<Figure size 864x360 with 4 Axes>"
      ]
     },
     "metadata": {
      "needs_background": "light"
     },
     "output_type": "display_data"
    }
   ],
   "source": [
    "fig, ax = plt.subplots(1,2, figsize=(12,5))\n",
    "sns.heatmap(cm_1c_train, annot=True, fmt = '', cmap = 'Blues',ax = ax[0])\n",
    "ax[0].set_xlabel('Predicted label')\n",
    "ax[0].set_ylabel('True label')\n",
    "ax[0].set_title('LogisticRegression class_weight - Training confusion matrix')\n",
    "\n",
    "sns.heatmap(cm_1c_test, annot=True, fmt = '', cmap = 'Purples',ax = ax[1])\n",
    "ax[1].set_xlabel('Predicted label')\n",
    "ax[1].set_ylabel('True label')\n",
    "ax[1].set_title('LogisticRegression class_weight - Testing confusion matrix')"
   ]
  },
  {
   "cell_type": "code",
   "execution_count": 35,
   "metadata": {},
   "outputs": [
    {
     "name": "stdout",
     "output_type": "stream",
     "text": [
      "[Test Classification Report]\n",
      "                         precision    recall  f1-score   support\n",
      "\n",
      "            Nondiabetic       0.95      0.72      0.82     65500\n",
      "Prediabetic or Diabetic       0.31      0.77      0.44     10604\n",
      "\n",
      "               accuracy                           0.73     76104\n",
      "              macro avg       0.63      0.75      0.63     76104\n",
      "           weighted avg       0.86      0.73      0.77     76104\n",
      "\n"
     ]
    }
   ],
   "source": [
    "target_names = ['Nondiabetic', 'Prediabetic or Diabetic']\n",
    "\n",
    "print(\"[Test Classification Report]\")\n",
    "test_classification_report_1c = classification_report(y_test_np, y_pred_test_1c, target_names=target_names)\n",
    "print(test_classification_report_1c)"
   ]
  },
  {
   "cell_type": "markdown",
   "metadata": {},
   "source": [
    "## 7. Random Forest"
   ]
  },
  {
   "cell_type": "markdown",
   "metadata": {},
   "source": [
    "### 7.1 Random Under Sampling"
   ]
  },
  {
   "cell_type": "code",
   "execution_count": 36,
   "metadata": {},
   "outputs": [],
   "source": [
    "from sklearn.ensemble import RandomForestClassifier\n",
    "\n",
    "rf_rus = RandomForestClassifier(random_state=42)\n",
    "rf_rus.fit(X_train_rus_np, y_train_rus_np)\n",
    "\n",
    "y_pred_train_2a = rf_rus.predict(X_train_rus_np)\n",
    "y_pred_test_2a = rf_rus.predict(X_test_np)"
   ]
  },
  {
   "cell_type": "code",
   "execution_count": 37,
   "metadata": {},
   "outputs": [],
   "source": [
    "cm_2a_train = confusion_matrix(y_train_rus_np,y_pred_train_2a)\n",
    "cm_2a_test = confusion_matrix(y_test_np,y_pred_test_2a)"
   ]
  },
  {
   "cell_type": "code",
   "execution_count": 38,
   "metadata": {},
   "outputs": [
    {
     "data": {
      "text/plain": [
       "Text(0.5, 1.0, 'RandomForest RUS - Testing confusion matrix')"
      ]
     },
     "execution_count": 38,
     "metadata": {},
     "output_type": "execute_result"
    },
    {
     "data": {
      "image/png": "[encoded data removed]",
      "text/plain": [
       "<Figure size 864x360 with 4 Axes>"
      ]
     },
     "metadata": {
      "needs_background": "light"
     },
     "output_type": "display_data"
    }
   ],
   "source": [
    "fig, ax = plt.subplots(1,2, figsize=(12,5))\n",
    "sns.heatmap(cm_2a_train, annot=True, fmt = '', cmap = 'Blues',ax = ax[0])\n",
    "ax[0].set_xlabel('Predicted label')\n",
    "ax[0].set_ylabel('True label')\n",
    "ax[0].set_title('RandomForest RUS - Training confusion matrix')\n",
    "\n",
    "sns.heatmap(cm_2a_test, annot=True, fmt = '', cmap = 'Purples',ax = ax[1])\n",
    "ax[1].set_xlabel('Predicted label')\n",
    "ax[1].set_ylabel('True label')\n",
    "ax[1].set_title('RandomForest RUS - Testing confusion matrix')"
   ]
  },
  {
   "cell_type": "code",
   "execution_count": 39,
   "metadata": {},
   "outputs": [
    {
     "name": "stdout",
     "output_type": "stream",
     "text": [
      "[Test Classification Report]\n",
      "                         precision    recall  f1-score   support\n",
      "\n",
      "            Nondiabetic       0.95      0.69      0.80     65500\n",
      "Prediabetic or Diabetic       0.29      0.79      0.42     10604\n",
      "\n",
      "               accuracy                           0.70     76104\n",
      "              macro avg       0.62      0.74      0.61     76104\n",
      "           weighted avg       0.86      0.70      0.75     76104\n",
      "\n"
     ]
    }
   ],
   "source": [
    "target_names = ['Nondiabetic', 'Prediabetic or Diabetic']\n",
    "\n",
    "print(\"[Test Classification Report]\")\n",
    "test_classification_report_2a = classification_report(y_test_np, y_pred_test_2a, target_names=target_names)\n",
    "print(test_classification_report_2a)"
   ]
  },
  {
   "cell_type": "markdown",
   "metadata": {},
   "source": [
    "### 7.2 SMOTE"
   ]
  },
  {
   "cell_type": "code",
   "execution_count": 40,
   "metadata": {},
   "outputs": [],
   "source": [
    "rf_sm = RandomForestClassifier(random_state=42)\n",
    "rf_sm.fit(X_train_sm_np, y_train_sm_np)\n",
    "\n",
    "y_pred_train_2b = rf_sm.predict(X_train_sm_np)\n",
    "y_pred_test_2b = rf_sm.predict(X_test_np)"
   ]
  },
  {
   "cell_type": "code",
   "execution_count": 41,
   "metadata": {},
   "outputs": [],
   "source": [
    "cm_2b_train = confusion_matrix(y_train_sm_np,y_pred_train_2b)\n",
    "cm_2b_test = confusion_matrix(y_test_np,y_pred_test_2b)"
   ]
  },
  {
   "cell_type": "code",
   "execution_count": 42,
   "metadata": {},
   "outputs": [
    {
     "data": {
      "text/plain": [
       "Text(0.5, 1.0, 'RandomForest SMOTE - Testing confusion matrix')"
      ]
     },
     "execution_count": 42,
     "metadata": {},
     "output_type": "execute_result"
    },
    {
     "data": {
      "image/png": "[encoded data removed]",
      "text/plain": [
       "<Figure size 864x360 with 4 Axes>"
      ]
     },
     "metadata": {
      "needs_background": "light"
     },
     "output_type": "display_data"
    }
   ],
   "source": [
    "fig, ax = plt.subplots(1,2, figsize=(12,5))\n",
    "sns.heatmap(cm_2b_train, annot=True, fmt = '', cmap = 'Blues',ax = ax[0])\n",
    "ax[0].set_xlabel('Predicted label')\n",
    "ax[0].set_ylabel('True label')\n",
    "ax[0].set_title('RandomForest SMOTE - Training confusion matrix')\n",
    "\n",
    "sns.heatmap(cm_2b_test, annot=True, fmt = '', cmap = 'Purples',ax = ax[1])\n",
    "ax[1].set_xlabel('Predicted label')\n",
    "ax[1].set_ylabel('True label')\n",
    "ax[1].set_title('RandomForest SMOTE - Testing confusion matrix')"
   ]
  },
  {
   "cell_type": "code",
   "execution_count": 43,
   "metadata": {},
   "outputs": [
    {
     "name": "stdout",
     "output_type": "stream",
     "text": [
      "[Test Classification Report]\n",
      "                         precision    recall  f1-score   support\n",
      "\n",
      "            Nondiabetic       0.88      0.96      0.92     65500\n",
      "Prediabetic or Diabetic       0.47      0.20      0.28     10604\n",
      "\n",
      "               accuracy                           0.86     76104\n",
      "              macro avg       0.67      0.58      0.60     76104\n",
      "           weighted avg       0.82      0.86      0.83     76104\n",
      "\n"
     ]
    }
   ],
   "source": [
    "target_names = ['Nondiabetic', 'Prediabetic or Diabetic']\n",
    "\n",
    "print(\"[Test Classification Report]\")\n",
    "test_classification_report_2b = classification_report(y_test_np, y_pred_test_2b, target_names=target_names)\n",
    "print(test_classification_report_2b)"
   ]
  },
  {
   "cell_type": "markdown",
   "metadata": {},
   "source": [
    "### 7.3 Balanced Weights of Classes"
   ]
  },
  {
   "cell_type": "code",
   "execution_count": 44,
   "metadata": {},
   "outputs": [],
   "source": [
    "rf_balance = RandomForestClassifier(random_state=42, class_weight='balanced')\n",
    "rf_balance.fit(X_train_np, y_train_np)\n",
    "\n",
    "y_pred_train_2c = rf_balance.predict(X_train_np)\n",
    "y_pred_test_2c = rf_balance.predict(X_test_np)"
   ]
  },
  {
   "cell_type": "code",
   "execution_count": 45,
   "metadata": {},
   "outputs": [],
   "source": [
    "cm_2c_train = confusion_matrix(y_train_np,y_pred_train_2c)\n",
    "cm_2c_test = confusion_matrix(y_test_np,y_pred_test_2c)"
   ]
  },
  {
   "cell_type": "code",
   "execution_count": 46,
   "metadata": {},
   "outputs": [
    {
     "data": {
      "text/plain": [
       "Text(0.5, 1.0, 'RandomForest class_weight balanced - Testing confusion matrix')"
      ]
     },
     "execution_count": 46,
     "metadata": {},
     "output_type": "execute_result"
    },
    {
     "data": {
      "image/png": "[encoded data removed]",
      "text/plain": [
       "<Figure size 864x360 with 4 Axes>"
      ]
     },
     "metadata": {
      "needs_background": "light"
     },
     "output_type": "display_data"
    }
   ],
   "source": [
    "fig, ax = plt.subplots(1,2, figsize=(12,5))\n",
    "sns.heatmap(cm_2c_train, annot=True, fmt = '', cmap = 'Blues',ax = ax[0])\n",
    "ax[0].set_xlabel('Predicted label')\n",
    "ax[0].set_ylabel('True label')\n",
    "ax[0].set_title('RandomForest class_weight balanced - Training confusion matrix')\n",
    "\n",
    "sns.heatmap(cm_2c_test, annot=True, fmt = '', cmap = 'Purples',ax = ax[1])\n",
    "ax[1].set_xlabel('Predicted label')\n",
    "ax[1].set_ylabel('True label')\n",
    "ax[1].set_title('RandomForest class_weight balanced - Testing confusion matrix')"
   ]
  },
  {
   "cell_type": "code",
   "execution_count": 47,
   "metadata": {},
   "outputs": [
    {
     "name": "stdout",
     "output_type": "stream",
     "text": [
      "[Test Classification Report]\n",
      "                         precision    recall  f1-score   support\n",
      "\n",
      "            Nondiabetic       0.88      0.97      0.92     65500\n",
      "Prediabetic or Diabetic       0.46      0.16      0.23     10604\n",
      "\n",
      "               accuracy                           0.86     76104\n",
      "              macro avg       0.67      0.56      0.58     76104\n",
      "           weighted avg       0.82      0.86      0.83     76104\n",
      "\n"
     ]
    }
   ],
   "source": [
    "target_names = ['Nondiabetic', 'Prediabetic or Diabetic']\n",
    "\n",
    "print(\"[Test Classification Report]\")\n",
    "print(classification_report(y_test_np, y_pred_test_2c, target_names=target_names))"
   ]
  },
  {
   "cell_type": "markdown",
   "metadata": {},
   "source": [
    "## 8. XGBoost"
   ]
  },
  {
   "cell_type": "markdown",
   "metadata": {},
   "source": [
    "### 8.1 Random Under Sampling"
   ]
  },
  {
   "cell_type": "code",
   "execution_count": 48,
   "metadata": {},
   "outputs": [],
   "source": [
    "import xgboost as xgb\n",
    "\n",
    "xg_rus = xgb.XGBClassifier(eval_metric = 'logloss', use_label_encoder=False, seed = 42)\n",
    "\n",
    "xg_rus.fit(X_train_rus_np, y_train_rus_np)\n",
    "\n",
    "y_pred_train_3a = xg_rus.predict(X_train_rus_np)\n",
    "y_pred_test_3a = xg_rus.predict(X_test_np)"
   ]
  },
  {
   "cell_type": "code",
   "execution_count": 49,
   "metadata": {},
   "outputs": [],
   "source": [
    "cm_3a_train = confusion_matrix(y_train_rus_np,y_pred_train_3a)\n",
    "cm_3a_test = confusion_matrix(y_test_np,y_pred_test_3a)"
   ]
  },
  {
   "cell_type": "code",
   "execution_count": 50,
   "metadata": {},
   "outputs": [
    {
     "data": {
      "text/plain": [
       "Text(0.5, 1.0, 'XGBoost RUS - Testing confusion matrix')"
      ]
     },
     "execution_count": 50,
     "metadata": {},
     "output_type": "execute_result"
    },
    {
     "data": {
      "image/png": "[encoded data removed]",
      "text/plain": [
       "<Figure size 864x360 with 4 Axes>"
      ]
     },
     "metadata": {
      "needs_background": "light"
     },
     "output_type": "display_data"
    }
   ],
   "source": [
    "fig, ax = plt.subplots(1,2, figsize=(12,5))\n",
    "sns.heatmap(cm_3a_train, annot=True, fmt = '', cmap = 'Blues',ax = ax[0])\n",
    "ax[0].set_xlabel('Predicted label')\n",
    "ax[0].set_ylabel('True label')\n",
    "ax[0].set_title('XGBoost RUS - Training confusion matrix')\n",
    "\n",
    "sns.heatmap(cm_3a_test, annot=True, fmt = '', cmap = 'Purples',ax = ax[1])\n",
    "ax[1].set_xlabel('Predicted label')\n",
    "ax[1].set_ylabel('True label')\n",
    "ax[1].set_title('XGBoost RUS - Testing confusion matrix')"
   ]
  },
  {
   "cell_type": "code",
   "execution_count": 51,
   "metadata": {},
   "outputs": [
    {
     "name": "stdout",
     "output_type": "stream",
     "text": [
      "[Test Classification Report]\n",
      "                         precision    recall  f1-score   support\n",
      "\n",
      "            Nondiabetic       0.95      0.70      0.81     65500\n",
      "Prediabetic or Diabetic       0.30      0.79      0.43     10604\n",
      "\n",
      "               accuracy                           0.71     76104\n",
      "              macro avg       0.63      0.75      0.62     76104\n",
      "           weighted avg       0.86      0.71      0.76     76104\n",
      "\n"
     ]
    }
   ],
   "source": [
    "target_names = ['Nondiabetic', 'Prediabetic or Diabetic']\n",
    "\n",
    "print(\"[Test Classification Report]\")\n",
    "print(classification_report(y_test_np, y_pred_test_3a, target_names=target_names))"
   ]
  },
  {
   "cell_type": "markdown",
   "metadata": {},
   "source": [
    "### 8.2 SMOTE"
   ]
  },
  {
   "cell_type": "code",
   "execution_count": 52,
   "metadata": {},
   "outputs": [],
   "source": [
    "xg_sm = xgb.XGBClassifier(eval_metric = 'logloss', use_label_encoder=False, seed = 42)\n",
    "xg_sm.fit(X_train_sm_np, y_train_sm_np)\n",
    "\n",
    "y_pred_train_3b = xg_sm.predict(X_train_sm_np)\n",
    "y_pred_test_3b = xg_sm.predict(X_test_np)"
   ]
  },
  {
   "cell_type": "code",
   "execution_count": 53,
   "metadata": {},
   "outputs": [],
   "source": [
    "cm_3b_train = confusion_matrix(y_train_sm_np,y_pred_train_3b)\n",
    "cm_3b_test = confusion_matrix(y_test_np,y_pred_test_3b)"
   ]
  },
  {
   "cell_type": "code",
   "execution_count": 54,
   "metadata": {},
   "outputs": [
    {
     "data": {
      "text/plain": [
       "Text(0.5, 1.0, 'XGBoost SMOTE - Testing confusion matrix')"
      ]
     },
     "execution_count": 54,
     "metadata": {},
     "output_type": "execute_result"
    },
    {
     "data": {
      "image/png": "[encoded data removed]",
      "text/plain": [
       "<Figure size 864x360 with 4 Axes>"
      ]
     },
     "metadata": {
      "needs_background": "light"
     },
     "output_type": "display_data"
    }
   ],
   "source": [
    "fig, ax = plt.subplots(1,2, figsize=(12,5))\n",
    "sns.heatmap(cm_3b_train, annot=True, fmt = '', cmap = 'Blues',ax = ax[0])\n",
    "ax[0].set_xlabel('Predicted label')\n",
    "ax[0].set_ylabel('True label')\n",
    "ax[0].set_title('XGBoost SMOTE - Training confusion matrix')\n",
    "\n",
    "sns.heatmap(cm_3b_test, annot=True, fmt = '', cmap = 'Purples',ax = ax[1])\n",
    "ax[1].set_xlabel('Predicted label')\n",
    "ax[1].set_ylabel('True label')\n",
    "ax[1].set_title('XGBoost SMOTE - Testing confusion matrix')"
   ]
  },
  {
   "cell_type": "code",
   "execution_count": 55,
   "metadata": {},
   "outputs": [
    {
     "name": "stdout",
     "output_type": "stream",
     "text": [
      "[Test Classification Report]\n",
      "                         precision    recall  f1-score   support\n",
      "\n",
      "            Nondiabetic       0.88      0.98      0.93     65500\n",
      "Prediabetic or Diabetic       0.55      0.18      0.28     10604\n",
      "\n",
      "               accuracy                           0.87     76104\n",
      "              macro avg       0.72      0.58      0.60     76104\n",
      "           weighted avg       0.84      0.87      0.84     76104\n",
      "\n"
     ]
    }
   ],
   "source": [
    "target_names = ['Nondiabetic', 'Prediabetic or Diabetic']\n",
    "\n",
    "print(\"[Test Classification Report]\")\n",
    "print(classification_report(y_test_np, y_pred_test_3b, target_names=target_names))"
   ]
  },
  {
   "cell_type": "markdown",
   "metadata": {},
   "source": [
    "### 8.3 Balanced Weights of Classes"
   ]
  },
  {
   "cell_type": "code",
   "execution_count": 56,
   "metadata": {},
   "outputs": [
    {
     "name": "stdout",
     "output_type": "stream",
     "text": [
      "Unique Values :  [0. 1.]\n",
      "Occurrence Count :  [152834  24742]\n"
     ]
    }
   ],
   "source": [
    "uniqueValues, occurCount = np.unique(y_train_np, return_counts=True)\n",
    "print(\"Unique Values : \" , uniqueValues)\n",
    "print(\"Occurrence Count : \", occurCount)"
   ]
  },
  {
   "cell_type": "code",
   "execution_count": 57,
   "metadata": {},
   "outputs": [
    {
     "name": "stdout",
     "output_type": "stream",
     "text": [
      "6\n"
     ]
    }
   ],
   "source": [
    "weight = occurCount[0] / occurCount[1]\n",
    "weight = round(weight)\n",
    "print(weight)"
   ]
  },
  {
   "cell_type": "code",
   "execution_count": 58,
   "metadata": {},
   "outputs": [],
   "source": [
    "xg_balance = xgb.XGBClassifier(eval_metric = 'logloss', use_label_encoder=False, scale_pos_weight = weight, seed = 42)\n",
    "xg_balance.fit(X_train_np, y_train_np)\n",
    "\n",
    "y_pred_train_3c = xg_balance.predict(X_train_np)\n",
    "y_pred_test_3c = xg_balance.predict(X_test_np)"
   ]
  },
  {
   "cell_type": "code",
   "execution_count": 59,
   "metadata": {},
   "outputs": [],
   "source": [
    "cm_3c_train = confusion_matrix(y_train_np,y_pred_train_3c)\n",
    "cm_3c_test = confusion_matrix(y_test_np,y_pred_test_3c)"
   ]
  },
  {
   "cell_type": "code",
   "execution_count": 60,
   "metadata": {},
   "outputs": [
    {
     "data": {
      "text/plain": [
       "Text(0.5, 1.0, 'XGBoost SMOTE - Testing confusion matrix')"
      ]
     },
     "execution_count": 60,
     "metadata": {},
     "output_type": "execute_result"
    },
    {
     "data": {
      "image/png": "[encoded data removed]",
      "text/plain": [
       "<Figure size 864x360 with 4 Axes>"
      ]
     },
     "metadata": {
      "needs_background": "light"
     },
     "output_type": "display_data"
    }
   ],
   "source": [
    "fig, ax = plt.subplots(1,2, figsize=(12,5))\n",
    "sns.heatmap(cm_3c_train, annot=True, fmt = '', cmap = 'Blues',ax = ax[0])\n",
    "ax[0].set_xlabel('Predicted label')\n",
    "ax[0].set_ylabel('True label')\n",
    "ax[0].set_title('XGBoost SMOTE - Training confusion matrix')\n",
    "\n",
    "sns.heatmap(cm_3c_test, annot=True, fmt = '', cmap = 'Purples',ax = ax[1])\n",
    "ax[1].set_xlabel('Predicted label')\n",
    "ax[1].set_ylabel('True label')\n",
    "ax[1].set_title('XGBoost SMOTE - Testing confusion matrix')"
   ]
  },
  {
   "cell_type": "code",
   "execution_count": 61,
   "metadata": {},
   "outputs": [
    {
     "name": "stdout",
     "output_type": "stream",
     "text": [
      "[Test Classification Report]\n",
      "                         precision    recall  f1-score   support\n",
      "\n",
      "            Nondiabetic       0.95      0.72      0.82     65500\n",
      "Prediabetic or Diabetic       0.31      0.77      0.44     10604\n",
      "\n",
      "               accuracy                           0.73     76104\n",
      "              macro avg       0.63      0.75      0.63     76104\n",
      "           weighted avg       0.86      0.73      0.77     76104\n",
      "\n"
     ]
    }
   ],
   "source": [
    "target_names = ['Nondiabetic', 'Prediabetic or Diabetic']\n",
    "\n",
    "print(\"[Test Classification Report]\")\n",
    "print(classification_report(y_test_np, y_pred_test_3c, target_names=target_names))"
   ]
  },
  {
   "cell_type": "markdown",
   "metadata": {},
   "source": [
    "## 9. Summary & Next Steps"
   ]
  },
  {
   "cell_type": "markdown",
   "metadata": {},
   "source": [
    "Let's create a table to help summarize the models that we created. This table summarizes the testing set results for each model. We are looking at the precision, recall, and f1-score for each model. As previously discussed, we are most interested in the recall:"
   ]
  },
  {
   "cell_type": "code",
   "execution_count": 62,
   "metadata": {},
   "outputs": [
    {
     "name": "stdout",
     "output_type": "stream",
     "text": [
      " Model                                |   Test Precision |   Test Recall |   Test F1-Score\n",
      "--------------------------------------+------------------+---------------+-----------------\n",
      " Logistic Regression - RUS            |             0.31 |          0.77 |            0.44\n",
      " Logistic Regression - SMOTE          |             0.31 |          0.76 |            0.44\n",
      " Logistic Regression - Balanced Class |             0.31 |          0.77 |            0.44\n",
      " Random Forest - RUS                  |             0.29 |          0.79 |            0.42\n",
      " Random Forest - SMOTE                |             0.47 |          0.2  |            0.28\n",
      " Random Forest - Balanced Class       |             0.46 |          0.16 |            0.23\n",
      " XGBoost - RUS                        |             0.3  |          0.79 |            0.43\n",
      " XGBoost - SMOTE                      |             0.55 |          0.18 |            0.28\n",
      " XGBoost - Balanced Class             |             0.31 |          0.77 |            0.44\n"
     ]
    }
   ],
   "source": [
    "from tabulate import tabulate\n",
    "\n",
    "table = [['Logistic Regression - RUS','0.31','0.77','0.44'],['Logistic Regression - SMOTE','0.31','0.76','0.44'], ['Logistic Regression - Balanced Class','0.31','0.77','0.44'],['Random Forest - RUS','0.29','0.79','0.42'],['Random Forest - SMOTE','0.47','0.20','0.28'], ['Random Forest - Balanced Class', '0.46', '0.16', '0.23'], ['XGBoost - RUS', '0.30', '0.79', '0.43'], ['XGBoost - SMOTE', '0.55', '0.18', '0.28'], ['XGBoost - Balanced Class', '0.31', '0.77', '0.44']]\n",
    "\n",
    "print(tabulate(table, headers=['Model','Test Precision','Test Recall','Test F1-Score'], tablefmt='presto'))"
   ]
  },
  {
   "cell_type": "markdown",
   "metadata": {},
   "source": [
    "All in all, we've trained nine models.  Three logistic regression models, three random forest models, and three XGBoost models, using random under sampling, SMOTE, and a balanced class.\n",
    "\n",
    "For the needs of our client, we've decided it would be ideal to optimize recall.  The top two models with respect to recall were the Random Forest using random under sampling and the XGBoost using random under sampling models.  \n",
    "\n",
    "Now we'll apply hyperparameter tuning. "
   ]
  },
  {
   "cell_type": "markdown",
   "metadata": {},
   "source": [
    "## 10. Hyperparameter Tuning"
   ]
  },
  {
   "cell_type": "markdown",
   "metadata": {},
   "source": [
    "### 10.1 Random Forest Model"
   ]
  },
  {
   "cell_type": "markdown",
   "metadata": {},
   "source": [
    "The below code is adapted from the following: https://scikit-learn.org/stable/auto_examples/ensemble/plot_ensemble_oob.html#sphx-glr-auto-examples-ensemble-plot-ensemble-oob-py"
   ]
  },
  {
   "cell_type": "code",
   "execution_count": 63,
   "metadata": {},
   "outputs": [
    {
     "data": {
      "image/png": "[encoded data removed]",
      "text/plain": [
       "<Figure size 432x288 with 1 Axes>"
      ]
     },
     "metadata": {
      "needs_background": "light"
     },
     "output_type": "display_data"
    }
   ],
   "source": [
    "import matplotlib.pyplot as plt\n",
    "\n",
    "from collections import OrderedDict\n",
    "from sklearn.datasets import make_classification\n",
    "from sklearn.ensemble import RandomForestClassifier\n",
    "\n",
    "RANDOM_STATE = 123\n",
    "\n",
    "# generate a binary classification dataset\n",
    "X_train, y_train = make_classification(\n",
    "    n_samples=500,\n",
    "    n_features=25,\n",
    "    n_clusters_per_class=1,\n",
    "    n_informative=15,\n",
    "    random_state=RANDOM_STATE,\n",
    ")\n",
    "\n",
    "# note, setting the 'warm_start' construction parameter to 'True' disables\n",
    "# support for parallelized ensembles but is necessary for tracking the OOB\n",
    "# error trajectory during training\n",
    "ensemble_clfs = [\n",
    "    (\n",
    "        \"RandomForestClassifier, max_features='sqrt'\",\n",
    "        RandomForestClassifier(\n",
    "            warm_start=True,\n",
    "            oob_score=True,\n",
    "            max_features='sqrt',\n",
    "            random_state=RANDOM_STATE,\n",
    "        ),\n",
    "    ),\n",
    "    (\n",
    "        \"RandomForestClassifier, max_features='log2'\",\n",
    "        RandomForestClassifier(\n",
    "            warm_start=True,\n",
    "            max_features='log2',\n",
    "            oob_score=True,\n",
    "            random_state=RANDOM_STATE,\n",
    "        ),\n",
    "    ),\n",
    "    (\n",
    "        \"RandomForestClassifier, max_features=None\",\n",
    "        RandomForestClassifier(\n",
    "            warm_start=True,\n",
    "            max_features=None,\n",
    "            oob_score=True,\n",
    "            random_state = RANDOM_STATE,\n",
    "        ),\n",
    "    ),\n",
    "]\n",
    "\n",
    "# map a classifier name to a list of (<n_estimators>, <error rate>) pairs\n",
    "error_rate = OrderedDict((label, []) for label, _ in ensemble_clfs)\n",
    "\n",
    "# range of 'n_estimators' values to explore\n",
    "min_estimators = 15\n",
    "max_estimators = 150\n",
    "\n",
    "for label, clf in ensemble_clfs:\n",
    "    for i in range(min_estimators, max_estimators + 1, 5):\n",
    "        clf.set_params(n_estimators = i)\n",
    "        clf.fit(X_train, y_train)\n",
    "        \n",
    "        # record the OOB error for each 'n_estimators = i' setting\n",
    "        oob_error = 1 - clf.oob_score_\n",
    "        error_rate[label].append((i, oob_error))\n",
    "\n",
    "# generate the \"OOB error rate\" vs. \"n_estimators\" plot\n",
    "for label, clf_err in error_rate.items():\n",
    "    xs, ys = zip(*clf_err)\n",
    "    plt.plot(xs, ys, label = label)\n",
    "    \n",
    "plt.xlim(min_estimators, max_estimators)\n",
    "plt.xlabel(\"n_estimators\")\n",
    "plt.ylabel(\"OOB error rate\")\n",
    "plt.legend(loc = \"upper right\")\n",
    "plt.show()\n",
    "\n"
   ]
  },
  {
   "cell_type": "markdown",
   "metadata": {},
   "source": [
    "The above plot shows how we can use the OOB (\"Out of Bag\") error rate to find the best values within the search space of n_estimators and max_features, and here we choose the values at which the smaller error curve seems to stabilize.\n",
    "\n",
    "Per the above, it appears we should use n_estimators = 118 and max_features = sqrt"
   ]
  },
  {
   "cell_type": "code",
   "execution_count": 64,
   "metadata": {},
   "outputs": [],
   "source": [
    "from sklearn.ensemble import RandomForestClassifier\n",
    "\n",
    "rf_rus = RandomForestClassifier(n_estimators = 118, max_features = 'sqrt')\n",
    "rf_rus.fit(X_train_rus_np, y_train_rus_np)\n",
    "\n",
    "y_pred_train_2a = rf_rus.predict(X_train_rus_np)\n",
    "y_pred_test_2a = rf_rus.predict(X_test_np)"
   ]
  },
  {
   "cell_type": "code",
   "execution_count": 65,
   "metadata": {},
   "outputs": [],
   "source": [
    "cm_2a_train = confusion_matrix(y_train_rus_np,y_pred_train_2a)\n",
    "cm_2a_test = confusion_matrix(y_test_np,y_pred_test_2a)"
   ]
  },
  {
   "cell_type": "code",
   "execution_count": 66,
   "metadata": {},
   "outputs": [
    {
     "data": {
      "text/plain": [
       "Text(0.5, 1.0, 'RandomForest RUS - Testing confusion matrix')"
      ]
     },
     "execution_count": 66,
     "metadata": {},
     "output_type": "execute_result"
    },
    {
     "data": {
      "image/png": "[encoded data removed]",
      "text/plain": [
       "<Figure size 864x360 with 4 Axes>"
      ]
     },
     "metadata": {
      "needs_background": "light"
     },
     "output_type": "display_data"
    }
   ],
   "source": [
    "fig, ax = plt.subplots(1,2, figsize=(12,5))\n",
    "sns.heatmap(cm_2a_train, annot=True, fmt = '', cmap = 'Blues',ax = ax[0])\n",
    "ax[0].set_xlabel('Predicted label')\n",
    "ax[0].set_ylabel('True label')\n",
    "ax[0].set_title('RandomForest RUS - Training confusion matrix')\n",
    "\n",
    "sns.heatmap(cm_2a_test, annot=True, fmt = '', cmap = 'Purples',ax = ax[1])\n",
    "ax[1].set_xlabel('Predicted label')\n",
    "ax[1].set_ylabel('True label')\n",
    "ax[1].set_title('RandomForest RUS - Testing confusion matrix')"
   ]
  },
  {
   "cell_type": "code",
   "execution_count": 67,
   "metadata": {},
   "outputs": [
    {
     "name": "stdout",
     "output_type": "stream",
     "text": [
      "[Test Classification Report]\n",
      "                         precision    recall  f1-score   support\n",
      "\n",
      "            Nondiabetic       0.95      0.69      0.80     65500\n",
      "Prediabetic or Diabetic       0.29      0.79      0.43     10604\n",
      "\n",
      "               accuracy                           0.70     76104\n",
      "              macro avg       0.62      0.74      0.61     76104\n",
      "           weighted avg       0.86      0.70      0.75     76104\n",
      "\n"
     ]
    }
   ],
   "source": [
    "target_names = ['Nondiabetic', 'Prediabetic or Diabetic']\n",
    "\n",
    "print(\"[Test Classification Report]\")\n",
    "test_classification_report_2a = classification_report(y_test_np, y_pred_test_2a, target_names=target_names)\n",
    "print(test_classification_report_2a)"
   ]
  },
  {
   "cell_type": "markdown",
   "metadata": {},
   "source": [
    "### 10.2 XGBoost Model"
   ]
  },
  {
   "cell_type": "code",
   "execution_count": 70,
   "metadata": {},
   "outputs": [],
   "source": [
    "params = { 'max_depth': [3, 5, 6, 10, 15],\n",
    "           'learning_rate': [0.01, 0.1, 0.2, 0.3],\n",
    "           'subsample': np.arange(0.5, 1.0, 0.1),\n",
    "           'colsample_bytree': np.arange(0.4, 1.0, 0.1),\n",
    "           'colsample_bylevel': np.arange(0.4, 1.0, 0.1),\n",
    "           'n_estimators': [100, 500, 1000]}"
   ]
  },
  {
   "cell_type": "code",
   "execution_count": 72,
   "metadata": {},
   "outputs": [
    {
     "name": "stdout",
     "output_type": "stream",
     "text": [
      "Fitting 3 folds for each of 20 candidates, totalling 60 fits\n",
      "[15:36:50] WARNING: ../src/learner.cc:1115: Starting in XGBoost 1.3.0, the default evaluation metric used with the objective 'binary:logistic' was changed from 'error' to 'logloss'. Explicitly set eval_metric if you'd like to restore the old behavior.\n"
     ]
    },
    {
     "data": {
      "text/plain": [
       "RandomizedSearchCV(cv=3,\n",
       "                   estimator=XGBClassifier(base_score=None, booster=None,\n",
       "                                           colsample_bylevel=None,\n",
       "                                           colsample_bynode=None,\n",
       "                                           colsample_bytree=None,\n",
       "                                           enable_categorical=False, gamma=None,\n",
       "                                           gpu_id=None, importance_type=None,\n",
       "                                           interaction_constraints=None,\n",
       "                                           learning_rate=None,\n",
       "                                           max_delta_step=None, max_depth=None,\n",
       "                                           min_child_weight=None, missing=nan,\n",
       "                                           monotone_constraints...\n",
       "                                           use_label_encoder=False,\n",
       "                                           validate_parameters=None,\n",
       "                                           verbosity=None),\n",
       "                   n_iter=20, n_jobs=4,\n",
       "                   param_distributions={'colsample_bylevel': array([0.4, 0.5, 0.6, 0.7, 0.8, 0.9]),\n",
       "                                        'colsample_bytree': array([0.4, 0.5, 0.6, 0.7, 0.8, 0.9]),\n",
       "                                        'learning_rate': [0.01, 0.1, 0.2, 0.3],\n",
       "                                        'max_depth': [3, 5, 6, 10, 15],\n",
       "                                        'n_estimators': [100, 500, 1000],\n",
       "                                        'subsample': array([0.5, 0.6, 0.7, 0.8, 0.9])},\n",
       "                   scoring='f1', verbose=2)"
      ]
     },
     "execution_count": 72,
     "metadata": {},
     "output_type": "execute_result"
    }
   ],
   "source": [
    "from sklearn.model_selection import RandomizedSearchCV\n",
    "\n",
    "xg_rus = xgb.XGBClassifier(use_label_encoder=False)\n",
    "xg_rus_cv = RandomizedSearchCV(xg_rus, \n",
    "                         param_distributions = params,\n",
    "                         cv = 3,  \n",
    "                         n_iter = 20,  \n",
    "                         scoring = 'f1', \n",
    "                         verbose = 2, \n",
    "                         n_jobs = 4)\n",
    "\n",
    "xg_rus_cv.fit(X_train, y_train)"
   ]
  },
  {
   "cell_type": "code",
   "execution_count": 73,
   "metadata": {},
   "outputs": [
    {
     "data": {
      "text/plain": [
       "{'subsample': 0.7,\n",
       " 'n_estimators': 1000,\n",
       " 'max_depth': 15,\n",
       " 'learning_rate': 0.01,\n",
       " 'colsample_bytree': 0.6,\n",
       " 'colsample_bylevel': 0.7}"
      ]
     },
     "execution_count": 73,
     "metadata": {},
     "output_type": "execute_result"
    }
   ],
   "source": [
    "xg_rus_cv.best_params_"
   ]
  },
  {
   "cell_type": "code",
   "execution_count": 74,
   "metadata": {},
   "outputs": [],
   "source": [
    "xg_rus = xgb.XGBClassifier(eval_metric = 'logloss', use_label_encoder=False, seed = 42, subsample = 0.7, n_estimators = 1000, max_depth = 15, learning_rate = 0.01, colsample_bytree = 0.6, colsample_bylevel = 0.7)\n",
    "\n",
    "xg_rus.fit(X_train_rus_np, y_train_rus_np)\n",
    "\n",
    "y_pred_train_3a = xg_rus.predict(X_train_rus_np)\n",
    "y_pred_test_3a = xg_rus.predict(X_test_np)"
   ]
  },
  {
   "cell_type": "code",
   "execution_count": 75,
   "metadata": {},
   "outputs": [],
   "source": [
    "cm_3a_train = confusion_matrix(y_train_rus_np,y_pred_train_3a)\n",
    "cm_3a_test = confusion_matrix(y_test_np,y_pred_test_3a)"
   ]
  },
  {
   "cell_type": "code",
   "execution_count": 76,
   "metadata": {},
   "outputs": [
    {
     "data": {
      "text/plain": [
       "Text(0.5, 1.0, 'XGBoost RUS - Testing confusion matrix')"
      ]
     },
     "execution_count": 76,
     "metadata": {},
     "output_type": "execute_result"
    },
    {
     "data": {
      "image/png": "[encoded data removed]",
      "text/plain": [
       "<Figure size 864x360 with 4 Axes>"
      ]
     },
     "metadata": {
      "needs_background": "light"
     },
     "output_type": "display_data"
    }
   ],
   "source": [
    "fig, ax = plt.subplots(1,2, figsize=(12,5))\n",
    "sns.heatmap(cm_3a_train, annot=True, fmt = '', cmap = 'Blues',ax = ax[0])\n",
    "ax[0].set_xlabel('Predicted label')\n",
    "ax[0].set_ylabel('True label')\n",
    "ax[0].set_title('XGBoost RUS - Training confusion matrix')\n",
    "\n",
    "sns.heatmap(cm_3a_test, annot=True, fmt = '', cmap = 'Purples',ax = ax[1])\n",
    "ax[1].set_xlabel('Predicted label')\n",
    "ax[1].set_ylabel('True label')\n",
    "ax[1].set_title('XGBoost RUS - Testing confusion matrix')"
   ]
  },
  {
   "cell_type": "code",
   "execution_count": 77,
   "metadata": {},
   "outputs": [
    {
     "name": "stdout",
     "output_type": "stream",
     "text": [
      "[Test Classification Report]\n",
      "                         precision    recall  f1-score   support\n",
      "\n",
      "            Nondiabetic       0.95      0.69      0.80     65500\n",
      "Prediabetic or Diabetic       0.29      0.80      0.43     10604\n",
      "\n",
      "               accuracy                           0.71     76104\n",
      "              macro avg       0.62      0.74      0.62     76104\n",
      "           weighted avg       0.86      0.71      0.75     76104\n",
      "\n"
     ]
    }
   ],
   "source": [
    "target_names = ['Nondiabetic', 'Prediabetic or Diabetic']\n",
    "\n",
    "print(\"[Test Classification Report]\")\n",
    "print(classification_report(y_test_np, y_pred_test_3a, target_names=target_names))"
   ]
  },
  {
   "cell_type": "markdown",
   "metadata": {},
   "source": [
    "### 10.3 Summary"
   ]
  },
  {
   "cell_type": "code",
   "execution_count": 78,
   "metadata": {},
   "outputs": [
    {
     "name": "stdout",
     "output_type": "stream",
     "text": [
      " Model                                |   Test Precision |   Test Recall |   Test F1-Score\n",
      "--------------------------------------+------------------+---------------+-----------------\n",
      " Logistic Regression - RUS            |             0.31 |          0.77 |            0.44\n",
      " Logistic Regression - SMOTE          |             0.31 |          0.76 |            0.44\n",
      " Logistic Regression - Balanced Class |             0.31 |          0.77 |            0.44\n",
      " Random Forest - RUS                  |             0.29 |          0.79 |            0.43\n",
      " Random Forest - SMOTE                |             0.47 |          0.2  |            0.28\n",
      " Random Forest - Balanced Class       |             0.46 |          0.16 |            0.23\n",
      " XGBoost - RUS                        |             0.29 |          0.8  |            0.43\n",
      " XGBoost - SMOTE                      |             0.55 |          0.18 |            0.28\n",
      " XGBoost - Balanced Class             |             0.31 |          0.77 |            0.44\n"
     ]
    }
   ],
   "source": [
    "from tabulate import tabulate\n",
    "\n",
    "table = [['Logistic Regression - RUS','0.31','0.77','0.44'],['Logistic Regression - SMOTE','0.31','0.76','0.44'], ['Logistic Regression - Balanced Class','0.31','0.77','0.44'],['Random Forest - RUS','0.29','0.79','0.43'],['Random Forest - SMOTE','0.47','0.20','0.28'], ['Random Forest - Balanced Class', '0.46', '0.16', '0.23'], ['XGBoost - RUS', '0.29', '0.80', '0.43'], ['XGBoost - SMOTE', '0.55', '0.18', '0.28'], ['XGBoost - Balanced Class', '0.31', '0.77', '0.44']]\n",
    "\n",
    "print(tabulate(table, headers=['Model','Test Precision','Test Recall','Test F1-Score'], tablefmt='presto'))"
   ]
  },
  {
   "cell_type": "markdown",
   "metadata": {},
   "source": [
    "With the hyperparameter tuning, we can see that there was not much of a change in the classification reports for either model.  However, the hyperparameter tuning did improve the XGBoost model using the random under sampling.  It has a recall of 0.80.  As a result, we have decided that this model best fits the needs of our client."
   ]
  },
  {
   "cell_type": "markdown",
   "metadata": {},
   "source": [
    "## 11. Feature Importances"
   ]
  },
  {
   "cell_type": "code",
   "execution_count": 93,
   "metadata": {},
   "outputs": [
    {
     "data": {
      "text/plain": [
       "[Text(0, 0, 'HighBP'),\n",
       " Text(0, 1, 'HighChol'),\n",
       " Text(0, 2, 'CholCheck'),\n",
       " Text(0, 3, 'BMI'),\n",
       " Text(0, 4, 'Smoker'),\n",
       " Text(0, 5, 'Stroke'),\n",
       " Text(0, 6, 'HeartDiseaseorAttack'),\n",
       " Text(0, 7, 'PhysActivity'),\n",
       " Text(0, 8, 'Fruits'),\n",
       " Text(0, 9, 'Veggies'),\n",
       " Text(0, 10, 'HvyAlcoholConsump'),\n",
       " Text(0, 11, 'AnyHealthcare'),\n",
       " Text(0, 12, 'NoDocbcCost'),\n",
       " Text(0, 13, 'GenHlth'),\n",
       " Text(0, 14, 'MentHlth'),\n",
       " Text(0, 15, 'PhysHlth'),\n",
       " Text(0, 16, 'DiffWalk'),\n",
       " Text(0, 17, 'Sex'),\n",
       " Text(0, 18, 'Age'),\n",
       " Text(0, 19, 'Education'),\n",
       " Text(0, 20, 'Income')]"
      ]
     },
     "execution_count": 93,
     "metadata": {},
     "output_type": "execute_result"
    },
    {
     "data": {
      "image/png": "[encoded data removed]",
      "text/plain": [
       "<Figure size 432x288 with 1 Axes>"
      ]
     },
     "metadata": {
      "needs_background": "light"
     },
     "output_type": "display_data"
    }
   ],
   "source": [
    "\n",
    "plot_importance(xg_rus, show_values=False, importance_type='gain').set_yticklabels(['HighBP','HighChol', 'CholCheck', 'BMI', 'Smoker', 'Stroke', 'HeartDiseaseorAttack', 'PhysActivity', 'Fruits', 'Veggies', 'HvyAlcoholConsump', 'AnyHealthcare', 'NoDocbcCost', 'GenHlth', 'MentHlth', 'PhysHlth', 'DiffWalk', 'Sex', 'Age', 'Education', 'Income'])"
   ]
  },
  {
   "cell_type": "markdown",
   "metadata": {},
   "source": [
    "Based on the above graph, we can see that the five most importance features for the XGBoost model (in descending order) include:\n",
    "\n",
    "* Income\n",
    "* Education\n",
    "* Age\n",
    "* Sex\n",
    "* DiffWalk"
   ]
  },
  {
   "cell_type": "code",
   "execution_count": null,
   "metadata": {},
   "outputs": [],
   "source": []
  }
 ],
 "metadata": {
  "kernelspec": {
   "display_name": "Python 3",
   "language": "python",
   "name": "python3"
  },
  "language_info": {
   "codemirror_mode": {
    "name": "ipython",
    "version": 3
   },
   "file_extension": ".py",
   "mimetype": "text/x-python",
   "name": "python",
   "nbconvert_exporter": "python",
   "pygments_lexer": "ipython3",
   "version": "3.8.5"
  }
 },
 "nbformat": 4,
 "nbformat_minor": 4
}
