{
 "cells": [
  {
   "cell_type": "markdown",
   "metadata": {},
   "source": [
    "# Capstone 3"
   ]
  },
  {
   "cell_type": "markdown",
   "metadata": {},
   "source": [
    "## Modeling"
   ]
  },
  {
   "cell_type": "markdown",
   "metadata": {},
   "source": [
    "Now that we've cleaned, wrangled, and pre-processed the data, it's time to create some models for our client. We want to determine which model works best for our client's needs. To that end, we've decided to focus on the recall of the models, as our client is more likely to tolerate false positives than false negatives of our target variable, \"Prediabetic or Diabetic.\" Specifically, since we are most interested in which patients are \"Prediabetic or Diabetic\" instead of \"Nondiabetic,\" VFH would be most tolerant of our models falsely classifying patients as \"Prediabetic or Diabetic\" when they are actually \"Nondiabetic\" than the reverse."
   ]
  },
  {
   "cell_type": "markdown",
   "metadata": {},
   "source": [
    "## 1. Table of Contents"
   ]
  },
  {
   "cell_type": "markdown",
   "metadata": {},
   "source": [
    "[1. Table of Contents](#1.-Table-of-Contents)\n",
    "\n",
    "[2. Import Packages](#2.-Import-Packages)\n",
    "\n",
    "[3. Load Data](#3.-Load-Data)\n",
    "\n",
    "[4. Explore the Data](#4.-Explore-the-Data)\n",
    "\n",
    "[5. Resampling Techniques](#5.-Resampling-Techniques)\n",
    "\n",
    "[6. Logistic Regression](#6.-Logistic-Regression)\n",
    "\n",
    "[7. Random Forest](#7.-Random-Forest)\n",
    "\n",
    "[8. XGBoost](#8.-XGBoost)\n",
    "\n",
    "[9. Summary & Next Steps](#8.-Summary-&-Next-Steps)\n",
    "\n",
    "[10. Hyperparameter Tuning](#9.-Hyperparameter-Tuning)\n",
    "\n",
    "[11. Feature Importances](#10.-Feature-Importances)"
   ]
  },
  {
   "cell_type": "markdown",
   "metadata": {},
   "source": [
    "## 2. Import Packages"
   ]
  },
  {
   "cell_type": "code",
   "execution_count": 1,
   "metadata": {},
   "outputs": [],
   "source": [
    "import pandas as pd\n",
    "import numpy as np\n",
    "import os\n",
    "import pickle\n",
    "import matplotlib.pyplot as plt\n",
    "import seaborn as sns\n",
    "from sklearn import __version__ as sklearn_version\n",
    "from sklearn.decomposition import PCA\n",
    "from sklearn.preprocessing import scale\n",
    "from sklearn.model_selection import train_test_split, cross_validate, GridSearchCV, learning_curve\n",
    "from sklearn.preprocessing import StandardScaler, MinMaxScaler\n",
    "from sklearn.dummy import DummyRegressor\n",
    "from sklearn.linear_model import LinearRegression\n",
    "from sklearn.ensemble import RandomForestRegressor\n",
    "from sklearn.metrics import r2_score, mean_squared_error, mean_absolute_error\n",
    "from sklearn.pipeline import make_pipeline\n",
    "from sklearn.impute import SimpleImputer\n",
    "from sklearn.feature_selection import SelectKBest, f_regression\n",
    "import datetime\n",
    "from sklearn.linear_model import LogisticRegression\n",
    "from sklearn.metrics import accuracy_score\n",
    "from sklearn import metrics\n",
    "from sklearn.metrics import plot_confusion_matrix, classification_report,confusion_matrix\n",
    "from sklearn.metrics import accuracy_score ,confusion_matrix,classification_report,plot_confusion_matrix"
   ]
  },
  {
   "cell_type": "markdown",
   "metadata": {},
   "source": [
    "## 3. Load Data"
   ]
  },
  {
   "cell_type": "code",
   "execution_count": 2,
   "metadata": {},
   "outputs": [],
   "source": [
    "X_train = pd.read_csv('/Users/lauren/Desktop/Diabetes_X_train.csv', index_col=0)\n",
    "X_test = pd.read_csv('/Users/lauren/Desktop/Diabetes_X_test.csv', index_col=0)\n",
    "y_train = pd.read_csv('/Users/lauren/Desktop/Diabetes_y_train.csv', index_col=0)\n",
    "y_test = pd.read_csv('/Users/lauren/Desktop/Diabetes_y_test.csv', index_col=0)"
   ]
  },
  {
   "cell_type": "markdown",
   "metadata": {},
   "source": [
    "## 4. Explore the Data"
   ]
  },
  {
   "cell_type": "code",
   "execution_count": 3,
   "metadata": {},
   "outputs": [
    {
     "name": "stdout",
     "output_type": "stream",
     "text": [
      "<class 'pandas.core.frame.DataFrame'>\n",
      "Int64Index: 177576 entries, 135186 to 67552\n",
      "Data columns (total 22 columns):\n",
      " #   Column                Non-Null Count   Dtype  \n",
      "---  ------                --------------   -----  \n",
      " 0   index                 177576 non-null  int64  \n",
      " 1   HighBP                177576 non-null  float64\n",
      " 2   HighChol              177576 non-null  float64\n",
      " 3   CholCheck             177576 non-null  float64\n",
      " 4   BMI                   177576 non-null  float64\n",
      " 5   Smoker                177576 non-null  float64\n",
      " 6   Stroke                177576 non-null  float64\n",
      " 7   HeartDiseaseorAttack  177576 non-null  float64\n",
      " 8   PhysActivity          177576 non-null  float64\n",
      " 9   Fruits                177576 non-null  float64\n",
      " 10  Veggies               177576 non-null  float64\n",
      " 11  HvyAlcoholConsump     177576 non-null  float64\n",
      " 12  AnyHealthcare         177576 non-null  float64\n",
      " 13  NoDocbcCost           177576 non-null  float64\n",
      " 14  GenHlth               177576 non-null  float64\n",
      " 15  MentHlth              177576 non-null  float64\n",
      " 16  PhysHlth              177576 non-null  float64\n",
      " 17  DiffWalk              177576 non-null  float64\n",
      " 18  Sex                   177576 non-null  float64\n",
      " 19  Age                   177576 non-null  float64\n",
      " 20  Education             177576 non-null  float64\n",
      " 21  Income                177576 non-null  float64\n",
      "dtypes: float64(21), int64(1)\n",
      "memory usage: 31.2 MB\n"
     ]
    }
   ],
   "source": [
    "X_train.info()"
   ]
  },
  {
   "cell_type": "code",
   "execution_count": 4,
   "metadata": {},
   "outputs": [
    {
     "name": "stdout",
     "output_type": "stream",
     "text": [
      "<class 'pandas.core.frame.DataFrame'>\n",
      "Int64Index: 76104 entries, 247511 to 58101\n",
      "Data columns (total 22 columns):\n",
      " #   Column                Non-Null Count  Dtype  \n",
      "---  ------                --------------  -----  \n",
      " 0   index                 76104 non-null  int64  \n",
      " 1   HighBP                76104 non-null  float64\n",
      " 2   HighChol              76104 non-null  float64\n",
      " 3   CholCheck             76104 non-null  float64\n",
      " 4   BMI                   76104 non-null  float64\n",
      " 5   Smoker                76104 non-null  float64\n",
      " 6   Stroke                76104 non-null  float64\n",
      " 7   HeartDiseaseorAttack  76104 non-null  float64\n",
      " 8   PhysActivity          76104 non-null  float64\n",
      " 9   Fruits                76104 non-null  float64\n",
      " 10  Veggies               76104 non-null  float64\n",
      " 11  HvyAlcoholConsump     76104 non-null  float64\n",
      " 12  AnyHealthcare         76104 non-null  float64\n",
      " 13  NoDocbcCost           76104 non-null  float64\n",
      " 14  GenHlth               76104 non-null  float64\n",
      " 15  MentHlth              76104 non-null  float64\n",
      " 16  PhysHlth              76104 non-null  float64\n",
      " 17  DiffWalk              76104 non-null  float64\n",
      " 18  Sex                   76104 non-null  float64\n",
      " 19  Age                   76104 non-null  float64\n",
      " 20  Education             76104 non-null  float64\n",
      " 21  Income                76104 non-null  float64\n",
      "dtypes: float64(21), int64(1)\n",
      "memory usage: 13.4 MB\n"
     ]
    }
   ],
   "source": [
    "X_test.info()"
   ]
  },
  {
   "cell_type": "code",
   "execution_count": 5,
   "metadata": {},
   "outputs": [
    {
     "name": "stdout",
     "output_type": "stream",
     "text": [
      "<class 'pandas.core.frame.DataFrame'>\n",
      "Int64Index: 177576 entries, 135186 to 67552\n",
      "Data columns (total 1 columns):\n",
      " #   Column           Non-Null Count   Dtype  \n",
      "---  ------           --------------   -----  \n",
      " 0   Diabetes_binary  177576 non-null  float64\n",
      "dtypes: float64(1)\n",
      "memory usage: 2.7 MB\n"
     ]
    }
   ],
   "source": [
    "y_train.info()"
   ]
  },
  {
   "cell_type": "code",
   "execution_count": 6,
   "metadata": {},
   "outputs": [
    {
     "name": "stdout",
     "output_type": "stream",
     "text": [
      "<class 'pandas.core.frame.DataFrame'>\n",
      "Int64Index: 76104 entries, 247511 to 58101\n",
      "Data columns (total 1 columns):\n",
      " #   Column           Non-Null Count  Dtype  \n",
      "---  ------           --------------  -----  \n",
      " 0   Diabetes_binary  76104 non-null  float64\n",
      "dtypes: float64(1)\n",
      "memory usage: 1.2 MB\n"
     ]
    }
   ],
   "source": [
    "y_test.info()"
   ]
  },
  {
   "cell_type": "code",
   "execution_count": 7,
   "metadata": {},
   "outputs": [
    {
     "data": {
      "text/plain": [
       "Diabetes_binary\n",
       "0.0                152834\n",
       "1.0                 24742\n",
       "dtype: int64"
      ]
     },
     "execution_count": 7,
     "metadata": {},
     "output_type": "execute_result"
    }
   ],
   "source": [
    "y_train.value_counts()"
   ]
  },
  {
   "cell_type": "code",
   "execution_count": 8,
   "metadata": {},
   "outputs": [
    {
     "data": {
      "text/plain": [
       "Diabetes_binary\n",
       "0.0                65500\n",
       "1.0                10604\n",
       "dtype: int64"
      ]
     },
     "execution_count": 8,
     "metadata": {},
     "output_type": "execute_result"
    }
   ],
   "source": [
    "y_test.value_counts()"
   ]
  },
  {
   "cell_type": "code",
   "execution_count": 9,
   "metadata": {},
   "outputs": [
    {
     "data": {
      "text/html": [
       "<div>\n",
       "<style scoped>\n",
       "    .dataframe tbody tr th:only-of-type {\n",
       "        vertical-align: middle;\n",
       "    }\n",
       "\n",
       "    .dataframe tbody tr th {\n",
       "        vertical-align: top;\n",
       "    }\n",
       "\n",
       "    .dataframe thead th {\n",
       "        text-align: right;\n",
       "    }\n",
       "</style>\n",
       "<table border=\"1\" class=\"dataframe\">\n",
       "  <thead>\n",
       "    <tr style=\"text-align: right;\">\n",
       "      <th></th>\n",
       "      <th>index</th>\n",
       "      <th>HighBP</th>\n",
       "      <th>HighChol</th>\n",
       "      <th>CholCheck</th>\n",
       "      <th>BMI</th>\n",
       "      <th>Smoker</th>\n",
       "      <th>Stroke</th>\n",
       "      <th>HeartDiseaseorAttack</th>\n",
       "      <th>PhysActivity</th>\n",
       "      <th>Fruits</th>\n",
       "      <th>...</th>\n",
       "      <th>AnyHealthcare</th>\n",
       "      <th>NoDocbcCost</th>\n",
       "      <th>GenHlth</th>\n",
       "      <th>MentHlth</th>\n",
       "      <th>PhysHlth</th>\n",
       "      <th>DiffWalk</th>\n",
       "      <th>Sex</th>\n",
       "      <th>Age</th>\n",
       "      <th>Education</th>\n",
       "      <th>Income</th>\n",
       "    </tr>\n",
       "  </thead>\n",
       "  <tbody>\n",
       "    <tr>\n",
       "      <th>135186</th>\n",
       "      <td>0.115605</td>\n",
       "      <td>-0.865876</td>\n",
       "      <td>-0.859511</td>\n",
       "      <td>0.19703</td>\n",
       "      <td>0.546472</td>\n",
       "      <td>1.123221</td>\n",
       "      <td>4.864145</td>\n",
       "      <td>3.116957</td>\n",
       "      <td>0.566590</td>\n",
       "      <td>-1.318558</td>\n",
       "      <td>...</td>\n",
       "      <td>0.227672</td>\n",
       "      <td>-0.303530</td>\n",
       "      <td>2.329484</td>\n",
       "      <td>-0.429295</td>\n",
       "      <td>-0.486554</td>\n",
       "      <td>2.225384</td>\n",
       "      <td>1.12928</td>\n",
       "      <td>0.316768</td>\n",
       "      <td>-3.085075</td>\n",
       "      <td>-2.441651</td>\n",
       "    </tr>\n",
       "    <tr>\n",
       "      <th>34875</th>\n",
       "      <td>-1.255050</td>\n",
       "      <td>-0.865876</td>\n",
       "      <td>1.163452</td>\n",
       "      <td>0.19703</td>\n",
       "      <td>-0.662170</td>\n",
       "      <td>1.123221</td>\n",
       "      <td>-0.205586</td>\n",
       "      <td>-0.320826</td>\n",
       "      <td>-1.764945</td>\n",
       "      <td>-1.318558</td>\n",
       "      <td>...</td>\n",
       "      <td>0.227672</td>\n",
       "      <td>-0.303530</td>\n",
       "      <td>-0.478719</td>\n",
       "      <td>-0.429295</td>\n",
       "      <td>-0.486554</td>\n",
       "      <td>-0.449361</td>\n",
       "      <td>-0.88552</td>\n",
       "      <td>-0.010682</td>\n",
       "      <td>0.964625</td>\n",
       "      <td>0.940477</td>\n",
       "    </tr>\n",
       "    <tr>\n",
       "      <th>247648</th>\n",
       "      <td>1.652293</td>\n",
       "      <td>1.154900</td>\n",
       "      <td>1.163452</td>\n",
       "      <td>0.19703</td>\n",
       "      <td>2.057275</td>\n",
       "      <td>1.123221</td>\n",
       "      <td>-0.205586</td>\n",
       "      <td>-0.320826</td>\n",
       "      <td>0.566590</td>\n",
       "      <td>0.758404</td>\n",
       "      <td>...</td>\n",
       "      <td>0.227672</td>\n",
       "      <td>-0.303530</td>\n",
       "      <td>2.329484</td>\n",
       "      <td>3.616258</td>\n",
       "      <td>2.953817</td>\n",
       "      <td>2.225384</td>\n",
       "      <td>1.12928</td>\n",
       "      <td>0.644219</td>\n",
       "      <td>-0.047800</td>\n",
       "      <td>-0.025846</td>\n",
       "    </tr>\n",
       "    <tr>\n",
       "      <th>113816</th>\n",
       "      <td>-0.176396</td>\n",
       "      <td>-0.865876</td>\n",
       "      <td>-0.859511</td>\n",
       "      <td>0.19703</td>\n",
       "      <td>-1.417571</td>\n",
       "      <td>-0.890297</td>\n",
       "      <td>-0.205586</td>\n",
       "      <td>-0.320826</td>\n",
       "      <td>0.566590</td>\n",
       "      <td>0.758404</td>\n",
       "      <td>...</td>\n",
       "      <td>0.227672</td>\n",
       "      <td>-0.303530</td>\n",
       "      <td>-1.414786</td>\n",
       "      <td>0.244964</td>\n",
       "      <td>-0.486554</td>\n",
       "      <td>-0.449361</td>\n",
       "      <td>-0.88552</td>\n",
       "      <td>0.316768</td>\n",
       "      <td>0.964625</td>\n",
       "      <td>0.940477</td>\n",
       "    </tr>\n",
       "    <tr>\n",
       "      <th>49483</th>\n",
       "      <td>-1.055446</td>\n",
       "      <td>-0.865876</td>\n",
       "      <td>-0.859511</td>\n",
       "      <td>0.19703</td>\n",
       "      <td>-0.964330</td>\n",
       "      <td>1.123221</td>\n",
       "      <td>-0.205586</td>\n",
       "      <td>-0.320826</td>\n",
       "      <td>0.566590</td>\n",
       "      <td>-1.318558</td>\n",
       "      <td>...</td>\n",
       "      <td>0.227672</td>\n",
       "      <td>-0.303530</td>\n",
       "      <td>-0.478719</td>\n",
       "      <td>-0.429295</td>\n",
       "      <td>-0.486554</td>\n",
       "      <td>-0.449361</td>\n",
       "      <td>1.12928</td>\n",
       "      <td>1.299120</td>\n",
       "      <td>0.964625</td>\n",
       "      <td>0.940477</td>\n",
       "    </tr>\n",
       "    <tr>\n",
       "      <th>...</th>\n",
       "      <td>...</td>\n",
       "      <td>...</td>\n",
       "      <td>...</td>\n",
       "      <td>...</td>\n",
       "      <td>...</td>\n",
       "      <td>...</td>\n",
       "      <td>...</td>\n",
       "      <td>...</td>\n",
       "      <td>...</td>\n",
       "      <td>...</td>\n",
       "      <td>...</td>\n",
       "      <td>...</td>\n",
       "      <td>...</td>\n",
       "      <td>...</td>\n",
       "      <td>...</td>\n",
       "      <td>...</td>\n",
       "      <td>...</td>\n",
       "      <td>...</td>\n",
       "      <td>...</td>\n",
       "      <td>...</td>\n",
       "      <td>...</td>\n",
       "    </tr>\n",
       "    <tr>\n",
       "      <th>240072</th>\n",
       "      <td>1.548774</td>\n",
       "      <td>1.154900</td>\n",
       "      <td>-0.859511</td>\n",
       "      <td>0.19703</td>\n",
       "      <td>0.546472</td>\n",
       "      <td>1.123221</td>\n",
       "      <td>-0.205586</td>\n",
       "      <td>-0.320826</td>\n",
       "      <td>-1.764945</td>\n",
       "      <td>-1.318558</td>\n",
       "      <td>...</td>\n",
       "      <td>0.227672</td>\n",
       "      <td>-0.303530</td>\n",
       "      <td>0.457349</td>\n",
       "      <td>1.188926</td>\n",
       "      <td>2.380421</td>\n",
       "      <td>2.225384</td>\n",
       "      <td>1.12928</td>\n",
       "      <td>0.644219</td>\n",
       "      <td>-0.047800</td>\n",
       "      <td>-0.025846</td>\n",
       "    </tr>\n",
       "    <tr>\n",
       "      <th>83641</th>\n",
       "      <td>-0.588709</td>\n",
       "      <td>1.154900</td>\n",
       "      <td>1.163452</td>\n",
       "      <td>0.19703</td>\n",
       "      <td>0.395392</td>\n",
       "      <td>1.123221</td>\n",
       "      <td>-0.205586</td>\n",
       "      <td>-0.320826</td>\n",
       "      <td>0.566590</td>\n",
       "      <td>-1.318558</td>\n",
       "      <td>...</td>\n",
       "      <td>0.227672</td>\n",
       "      <td>-0.303530</td>\n",
       "      <td>0.457349</td>\n",
       "      <td>3.616258</td>\n",
       "      <td>-0.486554</td>\n",
       "      <td>-0.449361</td>\n",
       "      <td>-0.88552</td>\n",
       "      <td>0.316768</td>\n",
       "      <td>-0.047800</td>\n",
       "      <td>0.457316</td>\n",
       "    </tr>\n",
       "    <tr>\n",
       "      <th>106494</th>\n",
       "      <td>-0.276444</td>\n",
       "      <td>1.154900</td>\n",
       "      <td>-0.859511</td>\n",
       "      <td>0.19703</td>\n",
       "      <td>0.999713</td>\n",
       "      <td>-0.890297</td>\n",
       "      <td>-0.205586</td>\n",
       "      <td>-0.320826</td>\n",
       "      <td>0.566590</td>\n",
       "      <td>-1.318558</td>\n",
       "      <td>...</td>\n",
       "      <td>0.227672</td>\n",
       "      <td>-0.303530</td>\n",
       "      <td>-0.478719</td>\n",
       "      <td>-0.429295</td>\n",
       "      <td>2.953817</td>\n",
       "      <td>-0.449361</td>\n",
       "      <td>1.12928</td>\n",
       "      <td>-0.010682</td>\n",
       "      <td>-1.060225</td>\n",
       "      <td>-1.475329</td>\n",
       "    </tr>\n",
       "    <tr>\n",
       "      <th>213336</th>\n",
       "      <td>1.183452</td>\n",
       "      <td>-0.865876</td>\n",
       "      <td>-0.859511</td>\n",
       "      <td>0.19703</td>\n",
       "      <td>1.755114</td>\n",
       "      <td>-0.890297</td>\n",
       "      <td>-0.205586</td>\n",
       "      <td>-0.320826</td>\n",
       "      <td>0.566590</td>\n",
       "      <td>0.758404</td>\n",
       "      <td>...</td>\n",
       "      <td>0.227672</td>\n",
       "      <td>3.294572</td>\n",
       "      <td>1.393416</td>\n",
       "      <td>-0.429295</td>\n",
       "      <td>-0.486554</td>\n",
       "      <td>-0.449361</td>\n",
       "      <td>-0.88552</td>\n",
       "      <td>-1.975386</td>\n",
       "      <td>0.964625</td>\n",
       "      <td>0.457316</td>\n",
       "    </tr>\n",
       "    <tr>\n",
       "      <th>67552</th>\n",
       "      <td>-0.808550</td>\n",
       "      <td>1.154900</td>\n",
       "      <td>-0.859511</td>\n",
       "      <td>0.19703</td>\n",
       "      <td>0.093231</td>\n",
       "      <td>-0.890297</td>\n",
       "      <td>-0.205586</td>\n",
       "      <td>-0.320826</td>\n",
       "      <td>-1.764945</td>\n",
       "      <td>-1.318558</td>\n",
       "      <td>...</td>\n",
       "      <td>0.227672</td>\n",
       "      <td>-0.303530</td>\n",
       "      <td>0.457349</td>\n",
       "      <td>-0.429295</td>\n",
       "      <td>-0.486554</td>\n",
       "      <td>-0.449361</td>\n",
       "      <td>1.12928</td>\n",
       "      <td>-0.338133</td>\n",
       "      <td>-0.047800</td>\n",
       "      <td>-0.509007</td>\n",
       "    </tr>\n",
       "  </tbody>\n",
       "</table>\n",
       "<p>177576 rows × 22 columns</p>\n",
       "</div>"
      ],
      "text/plain": [
       "           index    HighBP  HighChol  CholCheck       BMI    Smoker    Stroke  \\\n",
       "135186  0.115605 -0.865876 -0.859511    0.19703  0.546472  1.123221  4.864145   \n",
       "34875  -1.255050 -0.865876  1.163452    0.19703 -0.662170  1.123221 -0.205586   \n",
       "247648  1.652293  1.154900  1.163452    0.19703  2.057275  1.123221 -0.205586   \n",
       "113816 -0.176396 -0.865876 -0.859511    0.19703 -1.417571 -0.890297 -0.205586   \n",
       "49483  -1.055446 -0.865876 -0.859511    0.19703 -0.964330  1.123221 -0.205586   \n",
       "...          ...       ...       ...        ...       ...       ...       ...   \n",
       "240072  1.548774  1.154900 -0.859511    0.19703  0.546472  1.123221 -0.205586   \n",
       "83641  -0.588709  1.154900  1.163452    0.19703  0.395392  1.123221 -0.205586   \n",
       "106494 -0.276444  1.154900 -0.859511    0.19703  0.999713 -0.890297 -0.205586   \n",
       "213336  1.183452 -0.865876 -0.859511    0.19703  1.755114 -0.890297 -0.205586   \n",
       "67552  -0.808550  1.154900 -0.859511    0.19703  0.093231 -0.890297 -0.205586   \n",
       "\n",
       "        HeartDiseaseorAttack  PhysActivity    Fruits  ...  AnyHealthcare  \\\n",
       "135186              3.116957      0.566590 -1.318558  ...       0.227672   \n",
       "34875              -0.320826     -1.764945 -1.318558  ...       0.227672   \n",
       "247648             -0.320826      0.566590  0.758404  ...       0.227672   \n",
       "113816             -0.320826      0.566590  0.758404  ...       0.227672   \n",
       "49483              -0.320826      0.566590 -1.318558  ...       0.227672   \n",
       "...                      ...           ...       ...  ...            ...   \n",
       "240072             -0.320826     -1.764945 -1.318558  ...       0.227672   \n",
       "83641              -0.320826      0.566590 -1.318558  ...       0.227672   \n",
       "106494             -0.320826      0.566590 -1.318558  ...       0.227672   \n",
       "213336             -0.320826      0.566590  0.758404  ...       0.227672   \n",
       "67552              -0.320826     -1.764945 -1.318558  ...       0.227672   \n",
       "\n",
       "        NoDocbcCost   GenHlth  MentHlth  PhysHlth  DiffWalk      Sex  \\\n",
       "135186    -0.303530  2.329484 -0.429295 -0.486554  2.225384  1.12928   \n",
       "34875     -0.303530 -0.478719 -0.429295 -0.486554 -0.449361 -0.88552   \n",
       "247648    -0.303530  2.329484  3.616258  2.953817  2.225384  1.12928   \n",
       "113816    -0.303530 -1.414786  0.244964 -0.486554 -0.449361 -0.88552   \n",
       "49483     -0.303530 -0.478719 -0.429295 -0.486554 -0.449361  1.12928   \n",
       "...             ...       ...       ...       ...       ...      ...   \n",
       "240072    -0.303530  0.457349  1.188926  2.380421  2.225384  1.12928   \n",
       "83641     -0.303530  0.457349  3.616258 -0.486554 -0.449361 -0.88552   \n",
       "106494    -0.303530 -0.478719 -0.429295  2.953817 -0.449361  1.12928   \n",
       "213336     3.294572  1.393416 -0.429295 -0.486554 -0.449361 -0.88552   \n",
       "67552     -0.303530  0.457349 -0.429295 -0.486554 -0.449361  1.12928   \n",
       "\n",
       "             Age  Education    Income  \n",
       "135186  0.316768  -3.085075 -2.441651  \n",
       "34875  -0.010682   0.964625  0.940477  \n",
       "247648  0.644219  -0.047800 -0.025846  \n",
       "113816  0.316768   0.964625  0.940477  \n",
       "49483   1.299120   0.964625  0.940477  \n",
       "...          ...        ...       ...  \n",
       "240072  0.644219  -0.047800 -0.025846  \n",
       "83641   0.316768  -0.047800  0.457316  \n",
       "106494 -0.010682  -1.060225 -1.475329  \n",
       "213336 -1.975386   0.964625  0.457316  \n",
       "67552  -0.338133  -0.047800 -0.509007  \n",
       "\n",
       "[177576 rows x 22 columns]"
      ]
     },
     "execution_count": 9,
     "metadata": {},
     "output_type": "execute_result"
    }
   ],
   "source": [
    "X_train1 = pd.DataFrame(StandardScaler().fit_transform(X_train), columns=X_train.columns, index=X_train.index)\n",
    "\n",
    "X_train1\n"
   ]
  },
  {
   "cell_type": "code",
   "execution_count": 10,
   "metadata": {},
   "outputs": [
    {
     "name": "stdout",
     "output_type": "stream",
     "text": [
      "<class 'pandas.core.frame.DataFrame'>\n",
      "Int64Index: 177576 entries, 135186 to 67552\n",
      "Data columns (total 21 columns):\n",
      " #   Column                Non-Null Count   Dtype  \n",
      "---  ------                --------------   -----  \n",
      " 0   HighBP                177576 non-null  float64\n",
      " 1   HighChol              177576 non-null  float64\n",
      " 2   CholCheck             177576 non-null  float64\n",
      " 3   BMI                   177576 non-null  float64\n",
      " 4   Smoker                177576 non-null  float64\n",
      " 5   Stroke                177576 non-null  float64\n",
      " 6   HeartDiseaseorAttack  177576 non-null  float64\n",
      " 7   PhysActivity          177576 non-null  float64\n",
      " 8   Fruits                177576 non-null  float64\n",
      " 9   Veggies               177576 non-null  float64\n",
      " 10  HvyAlcoholConsump     177576 non-null  float64\n",
      " 11  AnyHealthcare         177576 non-null  float64\n",
      " 12  NoDocbcCost           177576 non-null  float64\n",
      " 13  GenHlth               177576 non-null  float64\n",
      " 14  MentHlth              177576 non-null  float64\n",
      " 15  PhysHlth              177576 non-null  float64\n",
      " 16  DiffWalk              177576 non-null  float64\n",
      " 17  Sex                   177576 non-null  float64\n",
      " 18  Age                   177576 non-null  float64\n",
      " 19  Education             177576 non-null  float64\n",
      " 20  Income                177576 non-null  float64\n",
      "dtypes: float64(21)\n",
      "memory usage: 29.8 MB\n"
     ]
    }
   ],
   "source": [
    "X_train1 = X_train1.drop(['index'], axis = 1)\n",
    "X_train1.info()"
   ]
  },
  {
   "cell_type": "code",
   "execution_count": 11,
   "metadata": {},
   "outputs": [
    {
     "data": {
      "text/html": [
       "<div>\n",
       "<style scoped>\n",
       "    .dataframe tbody tr th:only-of-type {\n",
       "        vertical-align: middle;\n",
       "    }\n",
       "\n",
       "    .dataframe tbody tr th {\n",
       "        vertical-align: top;\n",
       "    }\n",
       "\n",
       "    .dataframe thead th {\n",
       "        text-align: right;\n",
       "    }\n",
       "</style>\n",
       "<table border=\"1\" class=\"dataframe\">\n",
       "  <thead>\n",
       "    <tr style=\"text-align: right;\">\n",
       "      <th></th>\n",
       "      <th>index</th>\n",
       "      <th>HighBP</th>\n",
       "      <th>HighChol</th>\n",
       "      <th>CholCheck</th>\n",
       "      <th>BMI</th>\n",
       "      <th>Smoker</th>\n",
       "      <th>Stroke</th>\n",
       "      <th>HeartDiseaseorAttack</th>\n",
       "      <th>PhysActivity</th>\n",
       "      <th>Fruits</th>\n",
       "      <th>...</th>\n",
       "      <th>AnyHealthcare</th>\n",
       "      <th>NoDocbcCost</th>\n",
       "      <th>GenHlth</th>\n",
       "      <th>MentHlth</th>\n",
       "      <th>PhysHlth</th>\n",
       "      <th>DiffWalk</th>\n",
       "      <th>Sex</th>\n",
       "      <th>Age</th>\n",
       "      <th>Education</th>\n",
       "      <th>Income</th>\n",
       "    </tr>\n",
       "  </thead>\n",
       "  <tbody>\n",
       "    <tr>\n",
       "      <th>247511</th>\n",
       "      <td>1.641773</td>\n",
       "      <td>1.150868</td>\n",
       "      <td>1.169474</td>\n",
       "      <td>0.196669</td>\n",
       "      <td>-0.665363</td>\n",
       "      <td>1.115598</td>\n",
       "      <td>-0.205755</td>\n",
       "      <td>3.065176</td>\n",
       "      <td>-1.757861</td>\n",
       "      <td>0.761644</td>\n",
       "      <td>...</td>\n",
       "      <td>0.224964</td>\n",
       "      <td>-0.30234</td>\n",
       "      <td>0.457168</td>\n",
       "      <td>-0.430411</td>\n",
       "      <td>-0.486682</td>\n",
       "      <td>-0.450552</td>\n",
       "      <td>-0.890531</td>\n",
       "      <td>1.299219</td>\n",
       "      <td>-0.059060</td>\n",
       "      <td>-0.990487</td>\n",
       "    </tr>\n",
       "    <tr>\n",
       "      <th>10832</th>\n",
       "      <td>-1.585434</td>\n",
       "      <td>-0.868910</td>\n",
       "      <td>-0.855085</td>\n",
       "      <td>0.196669</td>\n",
       "      <td>-0.665363</td>\n",
       "      <td>-0.896380</td>\n",
       "      <td>-0.205755</td>\n",
       "      <td>3.065176</td>\n",
       "      <td>-1.757861</td>\n",
       "      <td>-1.312950</td>\n",
       "      <td>...</td>\n",
       "      <td>0.224964</td>\n",
       "      <td>-0.30234</td>\n",
       "      <td>2.328274</td>\n",
       "      <td>-0.430411</td>\n",
       "      <td>0.087164</td>\n",
       "      <td>2.219500</td>\n",
       "      <td>-0.890531</td>\n",
       "      <td>-2.301488</td>\n",
       "      <td>-0.059060</td>\n",
       "      <td>-0.026400</td>\n",
       "    </tr>\n",
       "    <tr>\n",
       "      <th>11806</th>\n",
       "      <td>-1.572153</td>\n",
       "      <td>1.150868</td>\n",
       "      <td>-0.855085</td>\n",
       "      <td>0.196669</td>\n",
       "      <td>-0.361621</td>\n",
       "      <td>-0.896380</td>\n",
       "      <td>-0.205755</td>\n",
       "      <td>-0.326246</td>\n",
       "      <td>0.568873</td>\n",
       "      <td>0.761644</td>\n",
       "      <td>...</td>\n",
       "      <td>0.224964</td>\n",
       "      <td>-0.30234</td>\n",
       "      <td>-1.413938</td>\n",
       "      <td>-0.430411</td>\n",
       "      <td>-0.486682</td>\n",
       "      <td>-0.450552</td>\n",
       "      <td>-0.890531</td>\n",
       "      <td>-0.010129</td>\n",
       "      <td>-0.059060</td>\n",
       "      <td>-0.026400</td>\n",
       "    </tr>\n",
       "    <tr>\n",
       "      <th>53687</th>\n",
       "      <td>-1.001090</td>\n",
       "      <td>-0.868910</td>\n",
       "      <td>-0.855085</td>\n",
       "      <td>0.196669</td>\n",
       "      <td>-0.665363</td>\n",
       "      <td>-0.896380</td>\n",
       "      <td>-0.205755</td>\n",
       "      <td>3.065176</td>\n",
       "      <td>0.568873</td>\n",
       "      <td>0.761644</td>\n",
       "      <td>...</td>\n",
       "      <td>0.224964</td>\n",
       "      <td>-0.30234</td>\n",
       "      <td>1.392721</td>\n",
       "      <td>-0.430411</td>\n",
       "      <td>2.956396</td>\n",
       "      <td>-0.450552</td>\n",
       "      <td>1.122926</td>\n",
       "      <td>1.299219</td>\n",
       "      <td>0.960148</td>\n",
       "      <td>0.937687</td>\n",
       "    </tr>\n",
       "    <tr>\n",
       "      <th>183853</th>\n",
       "      <td>0.773772</td>\n",
       "      <td>-0.868910</td>\n",
       "      <td>-0.855085</td>\n",
       "      <td>0.196669</td>\n",
       "      <td>-1.424717</td>\n",
       "      <td>1.115598</td>\n",
       "      <td>-0.205755</td>\n",
       "      <td>-0.326246</td>\n",
       "      <td>0.568873</td>\n",
       "      <td>0.761644</td>\n",
       "      <td>...</td>\n",
       "      <td>0.224964</td>\n",
       "      <td>-0.30234</td>\n",
       "      <td>0.457168</td>\n",
       "      <td>-0.430411</td>\n",
       "      <td>-0.486682</td>\n",
       "      <td>-0.450552</td>\n",
       "      <td>-0.890531</td>\n",
       "      <td>1.626555</td>\n",
       "      <td>-0.059060</td>\n",
       "      <td>0.455643</td>\n",
       "    </tr>\n",
       "    <tr>\n",
       "      <th>...</th>\n",
       "      <td>...</td>\n",
       "      <td>...</td>\n",
       "      <td>...</td>\n",
       "      <td>...</td>\n",
       "      <td>...</td>\n",
       "      <td>...</td>\n",
       "      <td>...</td>\n",
       "      <td>...</td>\n",
       "      <td>...</td>\n",
       "      <td>...</td>\n",
       "      <td>...</td>\n",
       "      <td>...</td>\n",
       "      <td>...</td>\n",
       "      <td>...</td>\n",
       "      <td>...</td>\n",
       "      <td>...</td>\n",
       "      <td>...</td>\n",
       "      <td>...</td>\n",
       "      <td>...</td>\n",
       "      <td>...</td>\n",
       "      <td>...</td>\n",
       "    </tr>\n",
       "    <tr>\n",
       "      <th>14183</th>\n",
       "      <td>-1.539742</td>\n",
       "      <td>-0.868910</td>\n",
       "      <td>-0.855085</td>\n",
       "      <td>0.196669</td>\n",
       "      <td>0.093991</td>\n",
       "      <td>-0.896380</td>\n",
       "      <td>-0.205755</td>\n",
       "      <td>-0.326246</td>\n",
       "      <td>0.568873</td>\n",
       "      <td>-1.312950</td>\n",
       "      <td>...</td>\n",
       "      <td>0.224964</td>\n",
       "      <td>-0.30234</td>\n",
       "      <td>-1.413938</td>\n",
       "      <td>1.594841</td>\n",
       "      <td>-0.486682</td>\n",
       "      <td>-0.450552</td>\n",
       "      <td>-0.890531</td>\n",
       "      <td>-0.664803</td>\n",
       "      <td>-0.059060</td>\n",
       "      <td>-2.436618</td>\n",
       "    </tr>\n",
       "    <tr>\n",
       "      <th>86849</th>\n",
       "      <td>-0.548914</td>\n",
       "      <td>-0.868910</td>\n",
       "      <td>-0.855085</td>\n",
       "      <td>0.196669</td>\n",
       "      <td>-0.665363</td>\n",
       "      <td>1.115598</td>\n",
       "      <td>-0.205755</td>\n",
       "      <td>-0.326246</td>\n",
       "      <td>0.568873</td>\n",
       "      <td>0.761644</td>\n",
       "      <td>...</td>\n",
       "      <td>0.224964</td>\n",
       "      <td>-0.30234</td>\n",
       "      <td>0.457168</td>\n",
       "      <td>-0.430411</td>\n",
       "      <td>-0.486682</td>\n",
       "      <td>-0.450552</td>\n",
       "      <td>1.122926</td>\n",
       "      <td>-0.010129</td>\n",
       "      <td>0.960148</td>\n",
       "      <td>0.937687</td>\n",
       "    </tr>\n",
       "    <tr>\n",
       "      <th>19469</th>\n",
       "      <td>-1.467665</td>\n",
       "      <td>1.150868</td>\n",
       "      <td>1.169474</td>\n",
       "      <td>0.196669</td>\n",
       "      <td>-0.969105</td>\n",
       "      <td>-0.896380</td>\n",
       "      <td>-0.205755</td>\n",
       "      <td>-0.326246</td>\n",
       "      <td>0.568873</td>\n",
       "      <td>0.761644</td>\n",
       "      <td>...</td>\n",
       "      <td>0.224964</td>\n",
       "      <td>-0.30234</td>\n",
       "      <td>-0.478385</td>\n",
       "      <td>-0.430411</td>\n",
       "      <td>0.661011</td>\n",
       "      <td>-0.450552</td>\n",
       "      <td>1.122926</td>\n",
       "      <td>-0.337466</td>\n",
       "      <td>0.960148</td>\n",
       "      <td>-0.508444</td>\n",
       "    </tr>\n",
       "    <tr>\n",
       "      <th>83389</th>\n",
       "      <td>-0.596092</td>\n",
       "      <td>1.150868</td>\n",
       "      <td>-0.855085</td>\n",
       "      <td>0.196669</td>\n",
       "      <td>-0.057880</td>\n",
       "      <td>-0.896380</td>\n",
       "      <td>-0.205755</td>\n",
       "      <td>-0.326246</td>\n",
       "      <td>0.568873</td>\n",
       "      <td>-1.312950</td>\n",
       "      <td>...</td>\n",
       "      <td>0.224964</td>\n",
       "      <td>-0.30234</td>\n",
       "      <td>0.457168</td>\n",
       "      <td>-0.430411</td>\n",
       "      <td>-0.486682</td>\n",
       "      <td>-0.450552</td>\n",
       "      <td>1.122926</td>\n",
       "      <td>0.644545</td>\n",
       "      <td>0.960148</td>\n",
       "      <td>0.937687</td>\n",
       "    </tr>\n",
       "    <tr>\n",
       "      <th>58101</th>\n",
       "      <td>-0.940904</td>\n",
       "      <td>-0.868910</td>\n",
       "      <td>-0.855085</td>\n",
       "      <td>0.196669</td>\n",
       "      <td>-0.969105</td>\n",
       "      <td>-0.896380</td>\n",
       "      <td>-0.205755</td>\n",
       "      <td>-0.326246</td>\n",
       "      <td>0.568873</td>\n",
       "      <td>-1.312950</td>\n",
       "      <td>...</td>\n",
       "      <td>0.224964</td>\n",
       "      <td>-0.30234</td>\n",
       "      <td>0.457168</td>\n",
       "      <td>-0.430411</td>\n",
       "      <td>0.316703</td>\n",
       "      <td>-0.450552</td>\n",
       "      <td>-0.890531</td>\n",
       "      <td>-1.319477</td>\n",
       "      <td>0.960148</td>\n",
       "      <td>0.937687</td>\n",
       "    </tr>\n",
       "  </tbody>\n",
       "</table>\n",
       "<p>76104 rows × 22 columns</p>\n",
       "</div>"
      ],
      "text/plain": [
       "           index    HighBP  HighChol  CholCheck       BMI    Smoker    Stroke  \\\n",
       "247511  1.641773  1.150868  1.169474   0.196669 -0.665363  1.115598 -0.205755   \n",
       "10832  -1.585434 -0.868910 -0.855085   0.196669 -0.665363 -0.896380 -0.205755   \n",
       "11806  -1.572153  1.150868 -0.855085   0.196669 -0.361621 -0.896380 -0.205755   \n",
       "53687  -1.001090 -0.868910 -0.855085   0.196669 -0.665363 -0.896380 -0.205755   \n",
       "183853  0.773772 -0.868910 -0.855085   0.196669 -1.424717  1.115598 -0.205755   \n",
       "...          ...       ...       ...        ...       ...       ...       ...   \n",
       "14183  -1.539742 -0.868910 -0.855085   0.196669  0.093991 -0.896380 -0.205755   \n",
       "86849  -0.548914 -0.868910 -0.855085   0.196669 -0.665363  1.115598 -0.205755   \n",
       "19469  -1.467665  1.150868  1.169474   0.196669 -0.969105 -0.896380 -0.205755   \n",
       "83389  -0.596092  1.150868 -0.855085   0.196669 -0.057880 -0.896380 -0.205755   \n",
       "58101  -0.940904 -0.868910 -0.855085   0.196669 -0.969105 -0.896380 -0.205755   \n",
       "\n",
       "        HeartDiseaseorAttack  PhysActivity    Fruits  ...  AnyHealthcare  \\\n",
       "247511              3.065176     -1.757861  0.761644  ...       0.224964   \n",
       "10832               3.065176     -1.757861 -1.312950  ...       0.224964   \n",
       "11806              -0.326246      0.568873  0.761644  ...       0.224964   \n",
       "53687               3.065176      0.568873  0.761644  ...       0.224964   \n",
       "183853             -0.326246      0.568873  0.761644  ...       0.224964   \n",
       "...                      ...           ...       ...  ...            ...   \n",
       "14183              -0.326246      0.568873 -1.312950  ...       0.224964   \n",
       "86849              -0.326246      0.568873  0.761644  ...       0.224964   \n",
       "19469              -0.326246      0.568873  0.761644  ...       0.224964   \n",
       "83389              -0.326246      0.568873 -1.312950  ...       0.224964   \n",
       "58101              -0.326246      0.568873 -1.312950  ...       0.224964   \n",
       "\n",
       "        NoDocbcCost   GenHlth  MentHlth  PhysHlth  DiffWalk       Sex  \\\n",
       "247511     -0.30234  0.457168 -0.430411 -0.486682 -0.450552 -0.890531   \n",
       "10832      -0.30234  2.328274 -0.430411  0.087164  2.219500 -0.890531   \n",
       "11806      -0.30234 -1.413938 -0.430411 -0.486682 -0.450552 -0.890531   \n",
       "53687      -0.30234  1.392721 -0.430411  2.956396 -0.450552  1.122926   \n",
       "183853     -0.30234  0.457168 -0.430411 -0.486682 -0.450552 -0.890531   \n",
       "...             ...       ...       ...       ...       ...       ...   \n",
       "14183      -0.30234 -1.413938  1.594841 -0.486682 -0.450552 -0.890531   \n",
       "86849      -0.30234  0.457168 -0.430411 -0.486682 -0.450552  1.122926   \n",
       "19469      -0.30234 -0.478385 -0.430411  0.661011 -0.450552  1.122926   \n",
       "83389      -0.30234  0.457168 -0.430411 -0.486682 -0.450552  1.122926   \n",
       "58101      -0.30234  0.457168 -0.430411  0.316703 -0.450552 -0.890531   \n",
       "\n",
       "             Age  Education    Income  \n",
       "247511  1.299219  -0.059060 -0.990487  \n",
       "10832  -2.301488  -0.059060 -0.026400  \n",
       "11806  -0.010129  -0.059060 -0.026400  \n",
       "53687   1.299219   0.960148  0.937687  \n",
       "183853  1.626555  -0.059060  0.455643  \n",
       "...          ...        ...       ...  \n",
       "14183  -0.664803  -0.059060 -2.436618  \n",
       "86849  -0.010129   0.960148  0.937687  \n",
       "19469  -0.337466   0.960148 -0.508444  \n",
       "83389   0.644545   0.960148  0.937687  \n",
       "58101  -1.319477   0.960148  0.937687  \n",
       "\n",
       "[76104 rows x 22 columns]"
      ]
     },
     "execution_count": 11,
     "metadata": {},
     "output_type": "execute_result"
    }
   ],
   "source": [
    "X_test1 = pd.DataFrame(StandardScaler().fit_transform(X_test), columns=X_test.columns, index=X_test.index)\n",
    "\n",
    "X_test1"
   ]
  },
  {
   "cell_type": "code",
   "execution_count": 12,
   "metadata": {},
   "outputs": [
    {
     "name": "stdout",
     "output_type": "stream",
     "text": [
      "<class 'pandas.core.frame.DataFrame'>\n",
      "Int64Index: 76104 entries, 247511 to 58101\n",
      "Data columns (total 21 columns):\n",
      " #   Column                Non-Null Count  Dtype  \n",
      "---  ------                --------------  -----  \n",
      " 0   HighBP                76104 non-null  float64\n",
      " 1   HighChol              76104 non-null  float64\n",
      " 2   CholCheck             76104 non-null  float64\n",
      " 3   BMI                   76104 non-null  float64\n",
      " 4   Smoker                76104 non-null  float64\n",
      " 5   Stroke                76104 non-null  float64\n",
      " 6   HeartDiseaseorAttack  76104 non-null  float64\n",
      " 7   PhysActivity          76104 non-null  float64\n",
      " 8   Fruits                76104 non-null  float64\n",
      " 9   Veggies               76104 non-null  float64\n",
      " 10  HvyAlcoholConsump     76104 non-null  float64\n",
      " 11  AnyHealthcare         76104 non-null  float64\n",
      " 12  NoDocbcCost           76104 non-null  float64\n",
      " 13  GenHlth               76104 non-null  float64\n",
      " 14  MentHlth              76104 non-null  float64\n",
      " 15  PhysHlth              76104 non-null  float64\n",
      " 16  DiffWalk              76104 non-null  float64\n",
      " 17  Sex                   76104 non-null  float64\n",
      " 18  Age                   76104 non-null  float64\n",
      " 19  Education             76104 non-null  float64\n",
      " 20  Income                76104 non-null  float64\n",
      "dtypes: float64(21)\n",
      "memory usage: 12.8 MB\n"
     ]
    }
   ],
   "source": [
    "X_test1 = X_test1.drop(['index'], axis = 1)\n",
    "X_test1.info()"
   ]
  },
  {
   "cell_type": "markdown",
   "metadata": {},
   "source": [
    "## 5. Resampling Techniques"
   ]
  },
  {
   "cell_type": "markdown",
   "metadata": {},
   "source": [
    "There are two resampling techniquest that we will use: undersampling and oversampling.  First, we will look at undersampling:"
   ]
  },
  {
   "cell_type": "markdown",
   "metadata": {},
   "source": [
    "### 5.1 Undersampling"
   ]
  },
  {
   "cell_type": "code",
   "execution_count": 13,
   "metadata": {},
   "outputs": [
    {
     "data": {
      "text/html": [
       "<div>\n",
       "<style scoped>\n",
       "    .dataframe tbody tr th:only-of-type {\n",
       "        vertical-align: middle;\n",
       "    }\n",
       "\n",
       "    .dataframe tbody tr th {\n",
       "        vertical-align: top;\n",
       "    }\n",
       "\n",
       "    .dataframe thead th {\n",
       "        text-align: right;\n",
       "    }\n",
       "</style>\n",
       "<table border=\"1\" class=\"dataframe\">\n",
       "  <thead>\n",
       "    <tr style=\"text-align: right;\">\n",
       "      <th></th>\n",
       "      <th>technique</th>\n",
       "      <th>X_train_shape</th>\n",
       "      <th>y_train_shape</th>\n",
       "      <th>Prediabetic or Diabetic</th>\n",
       "      <th>Nondiabetic</th>\n",
       "    </tr>\n",
       "  </thead>\n",
       "  <tbody>\n",
       "    <tr>\n",
       "      <th>0</th>\n",
       "      <td>Original Data</td>\n",
       "      <td>177576</td>\n",
       "      <td>177576</td>\n",
       "      <td>24742</td>\n",
       "      <td>152834</td>\n",
       "    </tr>\n",
       "  </tbody>\n",
       "</table>\n",
       "</div>"
      ],
      "text/plain": [
       "       technique  X_train_shape  y_train_shape  Prediabetic or Diabetic  \\\n",
       "0  Original Data         177576         177576                    24742   \n",
       "\n",
       "   Nondiabetic  \n",
       "0       152834  "
      ]
     },
     "execution_count": 13,
     "metadata": {},
     "output_type": "execute_result"
    }
   ],
   "source": [
    "counts_table = pd.DataFrame()\n",
    "\n",
    "counts_table['technique'] = ['Original Data']\n",
    "counts_table['X_train_shape'] = [X_train1.shape[0]]\n",
    "counts_table['y_train_shape'] = [y_train.shape[0]]\n",
    "counts_table['Prediabetic or Diabetic'] = [y_train.value_counts()[1]]\n",
    "counts_table['Nondiabetic'] = [y_train.value_counts()[0]]\n",
    "\n",
    "counts_table"
   ]
  },
  {
   "cell_type": "code",
   "execution_count": 14,
   "metadata": {},
   "outputs": [],
   "source": [
    "from imblearn.under_sampling import RandomUnderSampler\n",
    "\n",
    "rus = RandomUnderSampler(random_state=42, replacement=True)\n",
    "\n",
    "X_train_rus, y_train_rus = rus.fit_sample(X_train1, y_train)"
   ]
  },
  {
   "cell_type": "code",
   "execution_count": 15,
   "metadata": {},
   "outputs": [
    {
     "data": {
      "text/html": [
       "<div>\n",
       "<style scoped>\n",
       "    .dataframe tbody tr th:only-of-type {\n",
       "        vertical-align: middle;\n",
       "    }\n",
       "\n",
       "    .dataframe tbody tr th {\n",
       "        vertical-align: top;\n",
       "    }\n",
       "\n",
       "    .dataframe thead th {\n",
       "        text-align: right;\n",
       "    }\n",
       "</style>\n",
       "<table border=\"1\" class=\"dataframe\">\n",
       "  <thead>\n",
       "    <tr style=\"text-align: right;\">\n",
       "      <th></th>\n",
       "      <th>technique</th>\n",
       "      <th>X_train_shape</th>\n",
       "      <th>y_train_shape</th>\n",
       "      <th>Prediabetic or Diabetic</th>\n",
       "      <th>Nondiabetic</th>\n",
       "    </tr>\n",
       "  </thead>\n",
       "  <tbody>\n",
       "    <tr>\n",
       "      <th>0</th>\n",
       "      <td>Original Data</td>\n",
       "      <td>177576</td>\n",
       "      <td>177576</td>\n",
       "      <td>24742</td>\n",
       "      <td>152834</td>\n",
       "    </tr>\n",
       "    <tr>\n",
       "      <th>1</th>\n",
       "      <td>Random Under Sampling</td>\n",
       "      <td>49484</td>\n",
       "      <td>49484</td>\n",
       "      <td>24742</td>\n",
       "      <td>24742</td>\n",
       "    </tr>\n",
       "  </tbody>\n",
       "</table>\n",
       "</div>"
      ],
      "text/plain": [
       "               technique  X_train_shape  y_train_shape  \\\n",
       "0          Original Data         177576         177576   \n",
       "1  Random Under Sampling          49484          49484   \n",
       "\n",
       "   Prediabetic or Diabetic  Nondiabetic  \n",
       "0                    24742       152834  \n",
       "1                    24742        24742  "
      ]
     },
     "execution_count": 15,
     "metadata": {},
     "output_type": "execute_result"
    }
   ],
   "source": [
    "new_row = {'technique':'Random Under Sampling', \n",
    "           'X_train_shape': X_train_rus.shape[0],\n",
    "          'y_train_shape': y_train_rus.shape[0],\n",
    "           'Prediabetic or Diabetic': y_train_rus.value_counts()[1],\n",
    "          'Nondiabetic': y_train_rus.value_counts()[0]}\n",
    "\n",
    "counts_table = counts_table.append(new_row, ignore_index=True)\n",
    "counts_table"
   ]
  },
  {
   "cell_type": "markdown",
   "metadata": {},
   "source": [
    "### 5.2 SMOTE"
   ]
  },
  {
   "cell_type": "code",
   "execution_count": 16,
   "metadata": {},
   "outputs": [],
   "source": [
    "from imblearn.over_sampling import SMOTE\n",
    "\n",
    "smote = SMOTE(random_state=42, sampling_strategy = 'minority')\n",
    "\n",
    "X_train_sm, y_train_sm = smote.fit_sample(X_train1, y_train)"
   ]
  },
  {
   "cell_type": "code",
   "execution_count": 17,
   "metadata": {},
   "outputs": [
    {
     "data": {
      "text/html": [
       "<div>\n",
       "<style scoped>\n",
       "    .dataframe tbody tr th:only-of-type {\n",
       "        vertical-align: middle;\n",
       "    }\n",
       "\n",
       "    .dataframe tbody tr th {\n",
       "        vertical-align: top;\n",
       "    }\n",
       "\n",
       "    .dataframe thead th {\n",
       "        text-align: right;\n",
       "    }\n",
       "</style>\n",
       "<table border=\"1\" class=\"dataframe\">\n",
       "  <thead>\n",
       "    <tr style=\"text-align: right;\">\n",
       "      <th></th>\n",
       "      <th>technique</th>\n",
       "      <th>X_train_shape</th>\n",
       "      <th>y_train_shape</th>\n",
       "      <th>Prediabetic or Diabetic</th>\n",
       "      <th>Nondiabetic</th>\n",
       "    </tr>\n",
       "  </thead>\n",
       "  <tbody>\n",
       "    <tr>\n",
       "      <th>0</th>\n",
       "      <td>Original Data</td>\n",
       "      <td>177576</td>\n",
       "      <td>177576</td>\n",
       "      <td>24742</td>\n",
       "      <td>152834</td>\n",
       "    </tr>\n",
       "    <tr>\n",
       "      <th>1</th>\n",
       "      <td>Random Under Sampling</td>\n",
       "      <td>49484</td>\n",
       "      <td>49484</td>\n",
       "      <td>24742</td>\n",
       "      <td>24742</td>\n",
       "    </tr>\n",
       "    <tr>\n",
       "      <th>2</th>\n",
       "      <td>SMOTE - minority</td>\n",
       "      <td>305668</td>\n",
       "      <td>305668</td>\n",
       "      <td>152834</td>\n",
       "      <td>152834</td>\n",
       "    </tr>\n",
       "  </tbody>\n",
       "</table>\n",
       "</div>"
      ],
      "text/plain": [
       "               technique  X_train_shape  y_train_shape  \\\n",
       "0          Original Data         177576         177576   \n",
       "1  Random Under Sampling          49484          49484   \n",
       "2       SMOTE - minority         305668         305668   \n",
       "\n",
       "   Prediabetic or Diabetic  Nondiabetic  \n",
       "0                    24742       152834  \n",
       "1                    24742        24742  \n",
       "2                   152834       152834  "
      ]
     },
     "execution_count": 17,
     "metadata": {},
     "output_type": "execute_result"
    }
   ],
   "source": [
    "new_row = {'technique':'SMOTE - minority', \n",
    "           'X_train_shape': X_train_sm.shape[0],\n",
    "          'y_train_shape': y_train_sm.shape[0],\n",
    "           'Prediabetic or Diabetic': y_train_sm.value_counts()[1],\n",
    "          'Nondiabetic': y_train_sm.value_counts()[0]}\n",
    "\n",
    "counts_table = counts_table.append(new_row, ignore_index=True)\n",
    "counts_table"
   ]
  },
  {
   "cell_type": "code",
   "execution_count": 18,
   "metadata": {},
   "outputs": [],
   "source": [
    "X_train_np = X_train1.to_numpy()\n",
    "y_train_np = y_train.to_numpy().ravel()\n",
    "X_train_rus_np = X_train_rus.to_numpy()\n",
    "y_train_rus_np = y_train_rus.to_numpy().ravel()\n",
    "X_train_sm_np = X_train_sm.to_numpy()\n",
    "y_train_sm_np = y_train_sm.to_numpy().ravel()\n",
    "\n",
    "X_test_np = X_test1.to_numpy()\n",
    "y_test_np = y_test.to_numpy().ravel()"
   ]
  },
  {
   "cell_type": "code",
   "execution_count": 19,
   "metadata": {},
   "outputs": [
    {
     "name": "stdout",
     "output_type": "stream",
     "text": [
      "(177576, 21) (177576,)\n",
      "(49484, 21) (49484,)\n",
      "(305668, 21) (305668,)\n"
     ]
    }
   ],
   "source": [
    "print(X_train_np.shape, y_train_np.shape)\n",
    "print(X_train_rus_np.shape, y_train_rus_np.shape)\n",
    "print(X_train_sm_np.shape, y_train_sm_np.shape)"
   ]
  },
  {
   "cell_type": "markdown",
   "metadata": {},
   "source": [
    "## 6. Logistic Regression"
   ]
  },
  {
   "cell_type": "markdown",
   "metadata": {},
   "source": [
    "### 6.1 Random Under Sampling"
   ]
  },
  {
   "cell_type": "code",
   "execution_count": 20,
   "metadata": {},
   "outputs": [],
   "source": [
    "from sklearn.linear_model import LogisticRegression\n",
    "\n",
    "lr_rus = LogisticRegression(solver = 'saga', random_state=42, max_iter = 2000)\n",
    "# Fit the model on the training data.\n",
    "lr_rus.fit(X_train_rus_np, y_train_rus_np)\n",
    "\n",
    "y_pred_train_1a = lr_rus.predict(X_train_rus_np)\n",
    "y_pred_test_1a = lr_rus.predict(X_test_np)"
   ]
  },
  {
   "cell_type": "code",
   "execution_count": 21,
   "metadata": {},
   "outputs": [],
   "source": [
    "cm_1a_train = confusion_matrix(y_train_rus_np, y_pred_train_1a)\n",
    "cm_1a_test = confusion_matrix(y_test_np, y_pred_test_1a)"
   ]
  },
  {
   "cell_type": "code",
   "execution_count": 22,
   "metadata": {},
   "outputs": [
    {
     "data": {
      "text/plain": [
       "Text(0.5, 1.0, 'LogisticRegression RUS - Testing confusion matrix')"
      ]
     },
     "execution_count": 22,
     "metadata": {},
     "output_type": "execute_result"
    },
    {
     "data": {
      "image/png": "[encoded data removed]",
      "text/plain": [
       "<Figure size 864x360 with 4 Axes>"
      ]
     },
     "metadata": {
      "needs_background": "light"
     },
     "output_type": "display_data"
    }
   ],
   "source": [
    "fig, ax = plt.subplots(1,2, figsize=(12,5))\n",
    "sns.heatmap(cm_1a_train, annot=True, fmt = '', cmap = 'Blues',ax = ax[0])\n",
    "ax[0].set_xlabel('Predicted label')\n",
    "ax[0].set_ylabel('True label')\n",
    "ax[0].set_title('LogisticRegression RUS - Training confusion matrix')\n",
    "\n",
    "sns.heatmap(cm_1a_test, annot=True, fmt = '', cmap = 'Purples',ax = ax[1])\n",
    "ax[1].set_xlabel('Predicted label')\n",
    "ax[1].set_ylabel('True label')\n",
    "ax[1].set_title('LogisticRegression RUS - Testing confusion matrix')"
   ]
  },
  {
   "cell_type": "code",
   "execution_count": 23,
   "metadata": {},
   "outputs": [
    {
     "name": "stdout",
     "output_type": "stream",
     "text": [
      "[Test Classification Report]\n",
      "                         precision    recall  f1-score   support\n",
      "\n",
      "            Nondiabetic       0.95      0.72      0.82     65500\n",
      "Prediabetic or Diabetic       0.31      0.77      0.44     10604\n",
      "\n",
      "               accuracy                           0.73     76104\n",
      "              macro avg       0.63      0.75      0.63     76104\n",
      "           weighted avg       0.86      0.73      0.77     76104\n",
      "\n"
     ]
    }
   ],
   "source": [
    "from sklearn.metrics import classification_report\n",
    "\n",
    "target_names = ['Nondiabetic', 'Prediabetic or Diabetic']\n",
    "\n",
    "print(\"[Test Classification Report]\")\n",
    "test_classification_report_1a = classification_report(y_test_np, y_pred_test_1a, target_names=target_names)\n",
    "print(test_classification_report_1a)"
   ]
  },
  {
   "cell_type": "markdown",
   "metadata": {},
   "source": [
    "### 6.2 SMOTE"
   ]
  },
  {
   "cell_type": "code",
   "execution_count": 24,
   "metadata": {},
   "outputs": [],
   "source": [
    "lr_sm = LogisticRegression(solver = 'saga', random_state=42, max_iter = 2000)\n",
    "# Fit the model on the training data.\n",
    "lr_sm.fit(X_train_sm_np, y_train_sm_np)\n",
    "\n",
    "y_pred_train_1b = lr_sm.predict(X_train_sm_np)\n",
    "y_pred_test_1b = lr_sm.predict(X_test_np)"
   ]
  },
  {
   "cell_type": "code",
   "execution_count": 25,
   "metadata": {},
   "outputs": [],
   "source": [
    "cm_1b_train = confusion_matrix(y_train_sm_np,y_pred_train_1b)\n",
    "cm_1b_test = confusion_matrix(y_test_np,y_pred_test_1b)"
   ]
  },
  {
   "cell_type": "code",
   "execution_count": 26,
   "metadata": {},
   "outputs": [
    {
     "data": {
      "text/plain": [
       "Text(0.5, 1.0, 'LogisticRegression SMOTE - Testing confusion matrix')"
      ]
     },
     "execution_count": 26,
     "metadata": {},
     "output_type": "execute_result"
    },
    {
     "data": {
      "image/png": "[encoded data removed]",
      "text/plain": [
       "<Figure size 864x360 with 4 Axes>"
      ]
     },
     "metadata": {
      "needs_background": "light"
     },
     "output_type": "display_data"
    }
   ],
   "source": [
    "fig, ax = plt.subplots(1,2, figsize=(12,5))\n",
    "sns.heatmap(cm_1b_train, annot=True, fmt = '', cmap = 'Blues',ax = ax[0])\n",
    "ax[0].set_xlabel('Predicted label')\n",
    "ax[0].set_ylabel('True label')\n",
    "ax[0].set_title('LogisticRegression SMOTE - Training confusion matrix')\n",
    "\n",
    "sns.heatmap(cm_1b_test, annot=True, fmt = '', cmap = 'Purples',ax = ax[1])\n",
    "ax[1].set_xlabel('Predicted label')\n",
    "ax[1].set_ylabel('True label')\n",
    "ax[1].set_title('LogisticRegression SMOTE - Testing confusion matrix')"
   ]
  },
  {
   "cell_type": "code",
   "execution_count": 27,
   "metadata": {},
   "outputs": [
    {
     "name": "stdout",
     "output_type": "stream",
     "text": [
      "[Test Classification Report]\n",
      "                         precision    recall  f1-score   support\n",
      "\n",
      "            Nondiabetic       0.95      0.73      0.82     65500\n",
      "Prediabetic or Diabetic       0.31      0.77      0.45     10604\n",
      "\n",
      "               accuracy                           0.73     76104\n",
      "              macro avg       0.63      0.75      0.63     76104\n",
      "           weighted avg       0.86      0.73      0.77     76104\n",
      "\n"
     ]
    }
   ],
   "source": [
    "target_names = ['Nondiabetic', 'Prediabetic or Diabetic']\n",
    "\n",
    "print(\"[Test Classification Report]\")\n",
    "test_classification_report_1b = classification_report(y_test_np, y_pred_test_1b, target_names=target_names)\n",
    "print(test_classification_report_1b)"
   ]
  },
  {
   "cell_type": "markdown",
   "metadata": {},
   "source": [
    "### 6.3 Balanced Weights of Classes"
   ]
  },
  {
   "cell_type": "code",
   "execution_count": 28,
   "metadata": {},
   "outputs": [],
   "source": [
    "lr_balance = LogisticRegression(solver = 'saga', random_state = 42, class_weight = 'balanced')\n",
    "\n",
    "# Fit the model on the training data.\n",
    "lr_balance.fit(X_train_np, y_train_np)\n",
    "\n",
    "y_pred_train_1c = lr_balance.predict(X_train_np)\n",
    "y_pred_test_1c = lr_balance.predict(X_test_np)"
   ]
  },
  {
   "cell_type": "code",
   "execution_count": 29,
   "metadata": {},
   "outputs": [],
   "source": [
    "cm_1c_train = confusion_matrix(y_train_np,y_pred_train_1c)\n",
    "cm_1c_test = confusion_matrix(y_test_np,y_pred_test_1c)"
   ]
  },
  {
   "cell_type": "code",
   "execution_count": 30,
   "metadata": {},
   "outputs": [
    {
     "data": {
      "text/plain": [
       "Text(0.5, 1.0, 'LogisticRegression class_weight - Testing confusion matrix')"
      ]
     },
     "execution_count": 30,
     "metadata": {},
     "output_type": "execute_result"
    },
    {
     "data": {
      "image/png": "[encoded data removed]",
      "text/plain": [
       "<Figure size 864x360 with 4 Axes>"
      ]
     },
     "metadata": {
      "needs_background": "light"
     },
     "output_type": "display_data"
    }
   ],
   "source": [
    "fig, ax = plt.subplots(1,2, figsize=(12,5))\n",
    "sns.heatmap(cm_1c_train, annot=True, fmt = '', cmap = 'Blues',ax = ax[0])\n",
    "ax[0].set_xlabel('Predicted label')\n",
    "ax[0].set_ylabel('True label')\n",
    "ax[0].set_title('LogisticRegression class_weight - Training confusion matrix')\n",
    "\n",
    "sns.heatmap(cm_1c_test, annot=True, fmt = '', cmap = 'Purples',ax = ax[1])\n",
    "ax[1].set_xlabel('Predicted label')\n",
    "ax[1].set_ylabel('True label')\n",
    "ax[1].set_title('LogisticRegression class_weight - Testing confusion matrix')"
   ]
  },
  {
   "cell_type": "code",
   "execution_count": 31,
   "metadata": {},
   "outputs": [
    {
     "name": "stdout",
     "output_type": "stream",
     "text": [
      "[Test Classification Report]\n",
      "                         precision    recall  f1-score   support\n",
      "\n",
      "            Nondiabetic       0.95      0.73      0.82     65500\n",
      "Prediabetic or Diabetic       0.31      0.77      0.44     10604\n",
      "\n",
      "               accuracy                           0.73     76104\n",
      "              macro avg       0.63      0.75      0.63     76104\n",
      "           weighted avg       0.86      0.73      0.77     76104\n",
      "\n"
     ]
    }
   ],
   "source": [
    "target_names = ['Nondiabetic', 'Prediabetic or Diabetic']\n",
    "\n",
    "print(\"[Test Classification Report]\")\n",
    "test_classification_report_1c = classification_report(y_test_np, y_pred_test_1c, target_names=target_names)\n",
    "print(test_classification_report_1c)"
   ]
  },
  {
   "cell_type": "markdown",
   "metadata": {},
   "source": [
    "## 7. Random Forest"
   ]
  },
  {
   "cell_type": "markdown",
   "metadata": {},
   "source": [
    "### 7.1 Random Under Sampling"
   ]
  },
  {
   "cell_type": "code",
   "execution_count": 32,
   "metadata": {},
   "outputs": [],
   "source": [
    "from sklearn.ensemble import RandomForestClassifier\n",
    "\n",
    "rf_rus = RandomForestClassifier(random_state=42)\n",
    "rf_rus.fit(X_train_rus_np, y_train_rus_np)\n",
    "\n",
    "y_pred_train_2a = rf_rus.predict(X_train_rus_np)\n",
    "y_pred_test_2a = rf_rus.predict(X_test_np)"
   ]
  },
  {
   "cell_type": "code",
   "execution_count": 33,
   "metadata": {},
   "outputs": [],
   "source": [
    "cm_2a_train = confusion_matrix(y_train_rus_np,y_pred_train_2a)\n",
    "cm_2a_test = confusion_matrix(y_test_np,y_pred_test_2a)"
   ]
  },
  {
   "cell_type": "code",
   "execution_count": 34,
   "metadata": {},
   "outputs": [
    {
     "data": {
      "text/plain": [
       "Text(0.5, 1.0, 'RandomForest RUS - Testing confusion matrix')"
      ]
     },
     "execution_count": 34,
     "metadata": {},
     "output_type": "execute_result"
    },
    {
     "data": {
      "image/png": "[encoded data removed]",
      "text/plain": [
       "<Figure size 864x360 with 4 Axes>"
      ]
     },
     "metadata": {
      "needs_background": "light"
     },
     "output_type": "display_data"
    }
   ],
   "source": [
    "fig, ax = plt.subplots(1,2, figsize=(12,5))\n",
    "sns.heatmap(cm_2a_train, annot=True, fmt = '', cmap = 'Blues',ax = ax[0])\n",
    "ax[0].set_xlabel('Predicted label')\n",
    "ax[0].set_ylabel('True label')\n",
    "ax[0].set_title('RandomForest RUS - Training confusion matrix')\n",
    "\n",
    "sns.heatmap(cm_2a_test, annot=True, fmt = '', cmap = 'Purples',ax = ax[1])\n",
    "ax[1].set_xlabel('Predicted label')\n",
    "ax[1].set_ylabel('True label')\n",
    "ax[1].set_title('RandomForest RUS - Testing confusion matrix')"
   ]
  },
  {
   "cell_type": "code",
   "execution_count": 35,
   "metadata": {},
   "outputs": [
    {
     "name": "stdout",
     "output_type": "stream",
     "text": [
      "[Test Classification Report]\n",
      "                         precision    recall  f1-score   support\n",
      "\n",
      "            Nondiabetic       0.95      0.68      0.80     65500\n",
      "Prediabetic or Diabetic       0.29      0.79      0.42     10604\n",
      "\n",
      "               accuracy                           0.70     76104\n",
      "              macro avg       0.62      0.74      0.61     76104\n",
      "           weighted avg       0.86      0.70      0.74     76104\n",
      "\n"
     ]
    }
   ],
   "source": [
    "target_names = ['Nondiabetic', 'Prediabetic or Diabetic']\n",
    "\n",
    "print(\"[Test Classification Report]\")\n",
    "test_classification_report_2a = classification_report(y_test_np, y_pred_test_2a, target_names=target_names)\n",
    "print(test_classification_report_2a)"
   ]
  },
  {
   "cell_type": "markdown",
   "metadata": {},
   "source": [
    "### 7.2 SMOTE"
   ]
  },
  {
   "cell_type": "code",
   "execution_count": 36,
   "metadata": {},
   "outputs": [],
   "source": [
    "rf_sm = RandomForestClassifier(random_state=42)\n",
    "rf_sm.fit(X_train_sm_np, y_train_sm_np)\n",
    "\n",
    "y_pred_train_2b = rf_sm.predict(X_train_sm_np)\n",
    "y_pred_test_2b = rf_sm.predict(X_test_np)"
   ]
  },
  {
   "cell_type": "code",
   "execution_count": 37,
   "metadata": {},
   "outputs": [],
   "source": [
    "cm_2b_train = confusion_matrix(y_train_sm_np,y_pred_train_2b)\n",
    "cm_2b_test = confusion_matrix(y_test_np,y_pred_test_2b)"
   ]
  },
  {
   "cell_type": "code",
   "execution_count": 38,
   "metadata": {},
   "outputs": [
    {
     "data": {
      "text/plain": [
       "Text(0.5, 1.0, 'RandomForest SMOTE - Testing confusion matrix')"
      ]
     },
     "execution_count": 38,
     "metadata": {},
     "output_type": "execute_result"
    },
    {
     "data": {
      "image/png": "[encoded data removed]",
      "text/plain": [
       "<Figure size 864x360 with 4 Axes>"
      ]
     },
     "metadata": {
      "needs_background": "light"
     },
     "output_type": "display_data"
    }
   ],
   "source": [
    "fig, ax = plt.subplots(1,2, figsize=(12,5))\n",
    "sns.heatmap(cm_2b_train, annot=True, fmt = '', cmap = 'Blues',ax = ax[0])\n",
    "ax[0].set_xlabel('Predicted label')\n",
    "ax[0].set_ylabel('True label')\n",
    "ax[0].set_title('RandomForest SMOTE - Training confusion matrix')\n",
    "\n",
    "sns.heatmap(cm_2b_test, annot=True, fmt = '', cmap = 'Purples',ax = ax[1])\n",
    "ax[1].set_xlabel('Predicted label')\n",
    "ax[1].set_ylabel('True label')\n",
    "ax[1].set_title('RandomForest SMOTE - Testing confusion matrix')"
   ]
  },
  {
   "cell_type": "code",
   "execution_count": 39,
   "metadata": {},
   "outputs": [
    {
     "name": "stdout",
     "output_type": "stream",
     "text": [
      "[Test Classification Report]\n",
      "                         precision    recall  f1-score   support\n",
      "\n",
      "            Nondiabetic       0.95      0.07      0.14     65500\n",
      "Prediabetic or Diabetic       0.15      0.97      0.25     10604\n",
      "\n",
      "               accuracy                           0.20     76104\n",
      "              macro avg       0.55      0.52      0.19     76104\n",
      "           weighted avg       0.83      0.20      0.15     76104\n",
      "\n"
     ]
    }
   ],
   "source": [
    "target_names = ['Nondiabetic', 'Prediabetic or Diabetic']\n",
    "\n",
    "print(\"[Test Classification Report]\")\n",
    "test_classification_report_2b = classification_report(y_test_np, y_pred_test_2b, target_names=target_names)\n",
    "print(test_classification_report_2b)"
   ]
  },
  {
   "cell_type": "markdown",
   "metadata": {},
   "source": [
    "### 7.3 Balanced Weights of Classes"
   ]
  },
  {
   "cell_type": "code",
   "execution_count": 40,
   "metadata": {},
   "outputs": [],
   "source": [
    "rf_balance = RandomForestClassifier(random_state=42, class_weight='balanced')\n",
    "rf_balance.fit(X_train_np, y_train_np)\n",
    "\n",
    "y_pred_train_2c = rf_balance.predict(X_train_np)\n",
    "y_pred_test_2c = rf_balance.predict(X_test_np)"
   ]
  },
  {
   "cell_type": "code",
   "execution_count": 41,
   "metadata": {},
   "outputs": [],
   "source": [
    "cm_2c_train = confusion_matrix(y_train_np,y_pred_train_2c)\n",
    "cm_2c_test = confusion_matrix(y_test_np,y_pred_test_2c)"
   ]
  },
  {
   "cell_type": "code",
   "execution_count": 42,
   "metadata": {},
   "outputs": [
    {
     "data": {
      "text/plain": [
       "Text(0.5, 1.0, 'RandomForest class_weight balanced - Testing confusion matrix')"
      ]
     },
     "execution_count": 42,
     "metadata": {},
     "output_type": "execute_result"
    },
    {
     "data": {
      "image/png": "[encoded data removed]",
      "text/plain": [
       "<Figure size 864x360 with 4 Axes>"
      ]
     },
     "metadata": {
      "needs_background": "light"
     },
     "output_type": "display_data"
    }
   ],
   "source": [
    "fig, ax = plt.subplots(1,2, figsize=(12,5))\n",
    "sns.heatmap(cm_2c_train, annot=True, fmt = '', cmap = 'Blues',ax = ax[0])\n",
    "ax[0].set_xlabel('Predicted label')\n",
    "ax[0].set_ylabel('True label')\n",
    "ax[0].set_title('RandomForest class_weight balanced - Training confusion matrix')\n",
    "\n",
    "sns.heatmap(cm_2c_test, annot=True, fmt = '', cmap = 'Purples',ax = ax[1])\n",
    "ax[1].set_xlabel('Predicted label')\n",
    "ax[1].set_ylabel('True label')\n",
    "ax[1].set_title('RandomForest class_weight balanced - Testing confusion matrix')"
   ]
  },
  {
   "cell_type": "code",
   "execution_count": 43,
   "metadata": {},
   "outputs": [
    {
     "name": "stdout",
     "output_type": "stream",
     "text": [
      "[Test Classification Report]\n",
      "                         precision    recall  f1-score   support\n",
      "\n",
      "            Nondiabetic       0.88      0.97      0.92     65500\n",
      "Prediabetic or Diabetic       0.46      0.15      0.23     10604\n",
      "\n",
      "               accuracy                           0.86     76104\n",
      "              macro avg       0.67      0.56      0.57     76104\n",
      "           weighted avg       0.82      0.86      0.82     76104\n",
      "\n"
     ]
    }
   ],
   "source": [
    "target_names = ['Nondiabetic', 'Prediabetic or Diabetic']\n",
    "\n",
    "print(\"[Test Classification Report]\")\n",
    "print(classification_report(y_test_np, y_pred_test_2c, target_names=target_names))"
   ]
  },
  {
   "cell_type": "markdown",
   "metadata": {},
   "source": [
    "## 8. XGBoost"
   ]
  },
  {
   "cell_type": "markdown",
   "metadata": {},
   "source": [
    "### 8.1 Random Under Sampling"
   ]
  },
  {
   "cell_type": "code",
   "execution_count": 44,
   "metadata": {},
   "outputs": [],
   "source": [
    "import xgboost as xgb\n",
    "\n",
    "xg_rus = xgb.XGBClassifier(eval_metric = 'logloss', use_label_encoder=False, seed = 42)\n",
    "\n",
    "xg_rus.fit(X_train_rus_np, y_train_rus_np)\n",
    "\n",
    "y_pred_train_3a = xg_rus.predict(X_train_rus_np)\n",
    "y_pred_test_3a = xg_rus.predict(X_test_np)"
   ]
  },
  {
   "cell_type": "code",
   "execution_count": 45,
   "metadata": {},
   "outputs": [],
   "source": [
    "cm_3a_train = confusion_matrix(y_train_rus_np,y_pred_train_3a)\n",
    "cm_3a_test = confusion_matrix(y_test_np,y_pred_test_3a)"
   ]
  },
  {
   "cell_type": "code",
   "execution_count": 46,
   "metadata": {},
   "outputs": [
    {
     "data": {
      "text/plain": [
       "Text(0.5, 1.0, 'XGBoost RUS - Testing confusion matrix')"
      ]
     },
     "execution_count": 46,
     "metadata": {},
     "output_type": "execute_result"
    },
    {
     "data": {
      "image/png": "[encoded data removed]",
      "text/plain": [
       "<Figure size 864x360 with 4 Axes>"
      ]
     },
     "metadata": {
      "needs_background": "light"
     },
     "output_type": "display_data"
    }
   ],
   "source": [
    "fig, ax = plt.subplots(1,2, figsize=(12,5))\n",
    "sns.heatmap(cm_3a_train, annot=True, fmt = '', cmap = 'Blues',ax = ax[0])\n",
    "ax[0].set_xlabel('Predicted label')\n",
    "ax[0].set_ylabel('True label')\n",
    "ax[0].set_title('XGBoost RUS - Training confusion matrix')\n",
    "\n",
    "sns.heatmap(cm_3a_test, annot=True, fmt = '', cmap = 'Purples',ax = ax[1])\n",
    "ax[1].set_xlabel('Predicted label')\n",
    "ax[1].set_ylabel('True label')\n",
    "ax[1].set_title('XGBoost RUS - Testing confusion matrix')"
   ]
  },
  {
   "cell_type": "code",
   "execution_count": 47,
   "metadata": {},
   "outputs": [
    {
     "name": "stdout",
     "output_type": "stream",
     "text": [
      "[Test Classification Report]\n",
      "                         precision    recall  f1-score   support\n",
      "\n",
      "            Nondiabetic       0.96      0.70      0.81     65500\n",
      "Prediabetic or Diabetic       0.30      0.80      0.44     10604\n",
      "\n",
      "               accuracy                           0.71     76104\n",
      "              macro avg       0.63      0.75      0.62     76104\n",
      "           weighted avg       0.86      0.71      0.75     76104\n",
      "\n"
     ]
    }
   ],
   "source": [
    "target_names = ['Nondiabetic', 'Prediabetic or Diabetic']\n",
    "\n",
    "print(\"[Test Classification Report]\")\n",
    "print(classification_report(y_test_np, y_pred_test_3a, target_names=target_names))"
   ]
  },
  {
   "cell_type": "markdown",
   "metadata": {},
   "source": [
    "### 8.2 SMOTE"
   ]
  },
  {
   "cell_type": "code",
   "execution_count": 48,
   "metadata": {},
   "outputs": [],
   "source": [
    "xg_sm = xgb.XGBClassifier(eval_metric = 'logloss', use_label_encoder=False, seed = 42)\n",
    "xg_sm.fit(X_train_sm_np, y_train_sm_np)\n",
    "\n",
    "y_pred_train_3b = xg_sm.predict(X_train_sm_np)\n",
    "y_pred_test_3b = xg_sm.predict(X_test_np)"
   ]
  },
  {
   "cell_type": "code",
   "execution_count": 49,
   "metadata": {},
   "outputs": [],
   "source": [
    "cm_3b_train = confusion_matrix(y_train_sm_np,y_pred_train_3b)\n",
    "cm_3b_test = confusion_matrix(y_test_np,y_pred_test_3b)"
   ]
  },
  {
   "cell_type": "code",
   "execution_count": 50,
   "metadata": {},
   "outputs": [
    {
     "data": {
      "text/plain": [
       "Text(0.5, 1.0, 'XGBoost SMOTE - Testing confusion matrix')"
      ]
     },
     "execution_count": 50,
     "metadata": {},
     "output_type": "execute_result"
    },
    {
     "data": {
      "image/png": "[encoded data removed]",
      "text/plain": [
       "<Figure size 864x360 with 4 Axes>"
      ]
     },
     "metadata": {
      "needs_background": "light"
     },
     "output_type": "display_data"
    }
   ],
   "source": [
    "fig, ax = plt.subplots(1,2, figsize=(12,5))\n",
    "sns.heatmap(cm_3b_train, annot=True, fmt = '', cmap = 'Blues',ax = ax[0])\n",
    "ax[0].set_xlabel('Predicted label')\n",
    "ax[0].set_ylabel('True label')\n",
    "ax[0].set_title('XGBoost SMOTE - Training confusion matrix')\n",
    "\n",
    "sns.heatmap(cm_3b_test, annot=True, fmt = '', cmap = 'Purples',ax = ax[1])\n",
    "ax[1].set_xlabel('Predicted label')\n",
    "ax[1].set_ylabel('True label')\n",
    "ax[1].set_title('XGBoost SMOTE - Testing confusion matrix')"
   ]
  },
  {
   "cell_type": "code",
   "execution_count": 51,
   "metadata": {},
   "outputs": [
    {
     "name": "stdout",
     "output_type": "stream",
     "text": [
      "[Test Classification Report]\n",
      "                         precision    recall  f1-score   support\n",
      "\n",
      "            Nondiabetic       0.00      0.00      0.00     65500\n",
      "Prediabetic or Diabetic       0.14      1.00      0.24     10604\n",
      "\n",
      "               accuracy                           0.14     76104\n",
      "              macro avg       0.07      0.50      0.12     76104\n",
      "           weighted avg       0.02      0.14      0.03     76104\n",
      "\n"
     ]
    },
    {
     "name": "stderr",
     "output_type": "stream",
     "text": [
      "/Users/lauren/opt/anaconda3/lib/python3.8/site-packages/sklearn/metrics/_classification.py:1318: UndefinedMetricWarning: Precision and F-score are ill-defined and being set to 0.0 in labels with no predicted samples. Use `zero_division` parameter to control this behavior.\n",
      "  _warn_prf(average, modifier, msg_start, len(result))\n",
      "/Users/lauren/opt/anaconda3/lib/python3.8/site-packages/sklearn/metrics/_classification.py:1318: UndefinedMetricWarning: Precision and F-score are ill-defined and being set to 0.0 in labels with no predicted samples. Use `zero_division` parameter to control this behavior.\n",
      "  _warn_prf(average, modifier, msg_start, len(result))\n",
      "/Users/lauren/opt/anaconda3/lib/python3.8/site-packages/sklearn/metrics/_classification.py:1318: UndefinedMetricWarning: Precision and F-score are ill-defined and being set to 0.0 in labels with no predicted samples. Use `zero_division` parameter to control this behavior.\n",
      "  _warn_prf(average, modifier, msg_start, len(result))\n"
     ]
    }
   ],
   "source": [
    "target_names = ['Nondiabetic', 'Prediabetic or Diabetic']\n",
    "\n",
    "print(\"[Test Classification Report]\")\n",
    "print(classification_report(y_test_np, y_pred_test_3b, target_names=target_names))"
   ]
  },
  {
   "cell_type": "markdown",
   "metadata": {},
   "source": [
    "### 8.3 Balanced Weights of Classes"
   ]
  },
  {
   "cell_type": "code",
   "execution_count": 52,
   "metadata": {},
   "outputs": [
    {
     "name": "stdout",
     "output_type": "stream",
     "text": [
      "Unique Values :  [0. 1.]\n",
      "Occurrence Count :  [152834  24742]\n"
     ]
    }
   ],
   "source": [
    "uniqueValues, occurCount = np.unique(y_train_np, return_counts=True)\n",
    "print(\"Unique Values : \" , uniqueValues)\n",
    "print(\"Occurrence Count : \", occurCount)"
   ]
  },
  {
   "cell_type": "code",
   "execution_count": 53,
   "metadata": {},
   "outputs": [
    {
     "name": "stdout",
     "output_type": "stream",
     "text": [
      "6\n"
     ]
    }
   ],
   "source": [
    "weight = occurCount[0] / occurCount[1]\n",
    "weight = round(weight)\n",
    "print(weight)"
   ]
  },
  {
   "cell_type": "code",
   "execution_count": 54,
   "metadata": {},
   "outputs": [],
   "source": [
    "xg_balance = xgb.XGBClassifier(eval_metric = 'logloss', use_label_encoder=False, scale_pos_weight = weight, seed = 42)\n",
    "xg_balance.fit(X_train_np, y_train_np)\n",
    "\n",
    "y_pred_train_3c = xg_balance.predict(X_train_np)\n",
    "y_pred_test_3c = xg_balance.predict(X_test_np)"
   ]
  },
  {
   "cell_type": "code",
   "execution_count": 55,
   "metadata": {},
   "outputs": [],
   "source": [
    "cm_3c_train = confusion_matrix(y_train_np,y_pred_train_3c)\n",
    "cm_3c_test = confusion_matrix(y_test_np,y_pred_test_3c)"
   ]
  },
  {
   "cell_type": "code",
   "execution_count": 56,
   "metadata": {},
   "outputs": [
    {
     "data": {
      "text/plain": [
       "Text(0.5, 1.0, 'XGBoost SMOTE - Testing confusion matrix')"
      ]
     },
     "execution_count": 56,
     "metadata": {},
     "output_type": "execute_result"
    },
    {
     "data": {
      "image/png": "[encoded data removed]",
      "text/plain": [
       "<Figure size 864x360 with 4 Axes>"
      ]
     },
     "metadata": {
      "needs_background": "light"
     },
     "output_type": "display_data"
    }
   ],
   "source": [
    "fig, ax = plt.subplots(1,2, figsize=(12,5))\n",
    "sns.heatmap(cm_3c_train, annot=True, fmt = '', cmap = 'Blues',ax = ax[0])\n",
    "ax[0].set_xlabel('Predicted label')\n",
    "ax[0].set_ylabel('True label')\n",
    "ax[0].set_title('XGBoost SMOTE - Training confusion matrix')\n",
    "\n",
    "sns.heatmap(cm_3c_test, annot=True, fmt = '', cmap = 'Purples',ax = ax[1])\n",
    "ax[1].set_xlabel('Predicted label')\n",
    "ax[1].set_ylabel('True label')\n",
    "ax[1].set_title('XGBoost SMOTE - Testing confusion matrix')"
   ]
  },
  {
   "cell_type": "code",
   "execution_count": 57,
   "metadata": {},
   "outputs": [
    {
     "name": "stdout",
     "output_type": "stream",
     "text": [
      "[Test Classification Report]\n",
      "                         precision    recall  f1-score   support\n",
      "\n",
      "            Nondiabetic       0.95      0.73      0.82     65500\n",
      "Prediabetic or Diabetic       0.31      0.77      0.45     10604\n",
      "\n",
      "               accuracy                           0.73     76104\n",
      "              macro avg       0.63      0.75      0.63     76104\n",
      "           weighted avg       0.86      0.73      0.77     76104\n",
      "\n"
     ]
    }
   ],
   "source": [
    "target_names = ['Nondiabetic', 'Prediabetic or Diabetic']\n",
    "\n",
    "print(\"[Test Classification Report]\")\n",
    "print(classification_report(y_test_np, y_pred_test_3c, target_names=target_names))"
   ]
  },
  {
   "cell_type": "markdown",
   "metadata": {},
   "source": [
    "## 9. Summary & Next Steps"
   ]
  },
  {
   "cell_type": "markdown",
   "metadata": {},
   "source": [
    "Let's create a table to help summarize the models that we created. This table summarizes the testing set results for each model. We are looking at the precision, recall, and f1-score for each model. As previously discussed, we are most interested in the recall:"
   ]
  },
  {
   "cell_type": "code",
   "execution_count": 58,
   "metadata": {},
   "outputs": [
    {
     "name": "stdout",
     "output_type": "stream",
     "text": [
      " Model                                |   Test Precision |   Test Recall |   Test F1-Score\n",
      "--------------------------------------+------------------+---------------+-----------------\n",
      " Logistic Regression - RUS            |             0.31 |          0.77 |            0.44\n",
      " Logistic Regression - SMOTE          |             0.31 |          0.77 |            0.45\n",
      " Logistic Regression - Balanced Class |             0.31 |          0.77 |            0.44\n",
      " Random Forest - RUS                  |             0.29 |          0.79 |            0.42\n",
      " Random Forest - SMOTE                |             0.15 |          0.97 |            0.25\n",
      " Random Forest - Balanced Class       |             0.46 |          0.15 |            0.23\n",
      " XGBoost - RUS                        |             0.3  |          0.8  |            0.44\n",
      " XGBoost - SMOTE                      |             0.14 |          1    |            0.24\n",
      " XGBoost - Balanced Class             |             0.31 |          0.77 |            0.45\n"
     ]
    }
   ],
   "source": [
    "from tabulate import tabulate\n",
    "\n",
    "table = [['Logistic Regression - RUS','0.31','0.77','0.44'],['Logistic Regression - SMOTE','0.31','0.77','0.45'], ['Logistic Regression - Balanced Class','0.31','0.77','0.44'],['Random Forest - RUS','0.29','0.79','0.42'],['Random Forest - SMOTE','0.15','0.97','0.25'], ['Random Forest - Balanced Class', '0.46', '0.15', '0.23'], ['XGBoost - RUS', '0.30', '0.80', '0.44'], ['XGBoost - SMOTE', '0.14', '1.00', '0.24'], ['XGBoost - Balanced Class', '0.31', '0.77', '0.45']]\n",
    "\n",
    "print(tabulate(table, headers=['Model','Test Precision','Test Recall','Test F1-Score'], tablefmt='presto'))"
   ]
  },
  {
   "cell_type": "markdown",
   "metadata": {},
   "source": [
    "All in all, we've trained nine models.  Three logistic regression models, three random forest models, and three XGBoost models, using random under sampling, SMOTE, and a balanced class.\n",
    "\n",
    "For the needs of our client, we've decided it would be ideal to optimize recall.  The top  model with respect to recall was the XGBoost SMOTE model.\n",
    "\n",
    "Next we want to apply hyperparameter tuning to our top model."
   ]
  },
  {
   "cell_type": "markdown",
   "metadata": {},
   "source": [
    "## 10. Hyperparameter Tuning"
   ]
  },
  {
   "cell_type": "markdown",
   "metadata": {},
   "source": [
    "## 11. Feature Importances"
   ]
  },
  {
   "cell_type": "code",
   "execution_count": 65,
   "metadata": {},
   "outputs": [
    {
     "data": {
      "text/plain": [
       "array([0.0782627 , 0.03942783, 0.00542812, 0.17096816, 0.02794773,\n",
       "       0.00994143, 0.01947561, 0.02250474, 0.02838245, 0.02222937,\n",
       "       0.00958458, 0.0072571 , 0.01218491, 0.10366546, 0.05255632,\n",
       "       0.06821912, 0.02532082, 0.02600757, 0.12930041, 0.05732191,\n",
       "       0.08401366])"
      ]
     },
     "execution_count": 65,
     "metadata": {},
     "output_type": "execute_result"
    }
   ],
   "source": [
    "rf_rus.feature_importances_"
   ]
  },
  {
   "cell_type": "code",
   "execution_count": 66,
   "metadata": {},
   "outputs": [],
   "source": [
    "feature_names = X_test1.columns"
   ]
  },
  {
   "cell_type": "code",
   "execution_count": 67,
   "metadata": {},
   "outputs": [
    {
     "name": "stdout",
     "output_type": "stream",
     "text": [
      "Elapsed time to compute the importances: 0.032 seconds\n"
     ]
    }
   ],
   "source": [
    "import time\n",
    "import numpy as np\n",
    "\n",
    "start_time = time.time()\n",
    "importances = rf_rus.feature_importances_\n",
    "std = np.std([tree.feature_importances_ for tree in rf_rus.estimators_], axis=0)\n",
    "elapsed_time = time.time() - start_time\n",
    "\n",
    "print(f\"Elapsed time to compute the importances: {elapsed_time:.3f} seconds\")\n",
    "\n"
   ]
  },
  {
   "cell_type": "code",
   "execution_count": 68,
   "metadata": {},
   "outputs": [
    {
     "data": {
      "image/png": "[encoded data removed]",
      "text/plain": [
       "<Figure size 1080x576 with 1 Axes>"
      ]
     },
     "metadata": {
      "needs_background": "light"
     },
     "output_type": "display_data"
    }
   ],
   "source": [
    "import pandas as pd\n",
    "\n",
    "rf_rus_importances = pd.Series(importances, index=feature_names)\n",
    "\n",
    "fig, ax = plt.subplots(figsize = (15, 8))\n",
    "rf_rus_importances.plot.bar(yerr=std, ax=ax)\n",
    "ax.set_title(\"Feature importances using MDI\")\n",
    "ax.set_ylabel(\"Mean decrease in impurity\")\n",
    "fig.tight_layout()"
   ]
  },
  {
   "cell_type": "markdown",
   "metadata": {},
   "source": [
    "From the above, we can see that the most important features (in descending order) include:\n",
    "\n",
    "* BMI\n",
    "* Age\n",
    "* GenHlth\n",
    "* Income\n",
    "* HighBP"
   ]
  },
  {
   "cell_type": "code",
   "execution_count": null,
   "metadata": {},
   "outputs": [],
   "source": []
  }
 ],
 "metadata": {
  "kernelspec": {
   "display_name": "Python 3",
   "language": "python",
   "name": "python3"
  },
  "language_info": {
   "codemirror_mode": {
    "name": "ipython",
    "version": 3
   },
   "file_extension": ".py",
   "mimetype": "text/x-python",
   "name": "python",
   "nbconvert_exporter": "python",
   "pygments_lexer": "ipython3",
   "version": "3.8.5"
  }
 },
 "nbformat": 4,
 "nbformat_minor": 4
}
