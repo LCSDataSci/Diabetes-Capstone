{
 "cells": [
  {
   "cell_type": "markdown",
   "metadata": {},
   "source": [
    "# Capstone 3"
   ]
  },
  {
   "cell_type": "markdown",
   "metadata": {},
   "source": [
    "## Pre-Processing & Training"
   ]
  },
  {
   "cell_type": "markdown",
   "metadata": {},
   "source": [
    "Now that we have completed the first two sections of this project (the Data Wrangling and Exploratory Data Analysis), it is time to move on to pre-processing and training our data so that it can be used in upcoming models."
   ]
  },
  {
   "cell_type": "markdown",
   "metadata": {},
   "source": [
    "## 1. Table of Contents"
   ]
  },
  {
   "cell_type": "markdown",
   "metadata": {},
   "source": [
    "[1. Table of Contents](#1.-Table-of-Contents)\n",
    "\n",
    "[2. Import Packages](#2.-Import-Packages)\n",
    "\n",
    "[3. Load Data](#3.-Load-Data)\n",
    "\n",
    "[4. Explore the Data](#4.-Explore-the-Data)\n",
    "\n",
    "[5. Dummy Variables](#5.-Dummy-Variables)\n",
    "\n",
    "[6. Train/Test Split](#6.-Train/Test-Split)"
   ]
  },
  {
   "cell_type": "markdown",
   "metadata": {},
   "source": [
    "## 2. Import Packages"
   ]
  },
  {
   "cell_type": "code",
   "execution_count": 1,
   "metadata": {},
   "outputs": [],
   "source": [
    "import pandas as pd\n",
    "import numpy as np\n",
    "import os\n",
    "import pickle\n",
    "import matplotlib.pyplot as plt\n",
    "import seaborn as sns\n",
    "from sklearn import __version__ as sklearn_version\n",
    "from sklearn.decomposition import PCA\n",
    "from sklearn.preprocessing import scale\n",
    "from sklearn.model_selection import train_test_split, cross_validate, GridSearchCV, learning_curve\n",
    "from sklearn.preprocessing import StandardScaler, MinMaxScaler\n",
    "from sklearn.dummy import DummyRegressor\n",
    "from sklearn.linear_model import LinearRegression\n",
    "from sklearn.ensemble import RandomForestRegressor\n",
    "from sklearn.metrics import r2_score, mean_squared_error, mean_absolute_error\n",
    "from sklearn.pipeline import make_pipeline\n",
    "from sklearn.impute import SimpleImputer\n",
    "from sklearn.feature_selection import SelectKBest, f_regression\n",
    "import datetime\n",
    "from sklearn.linear_model import LogisticRegression\n",
    "from sklearn.metrics import accuracy_score\n",
    "from sklearn import metrics\n",
    "from sklearn.metrics import plot_confusion_matrix, classification_report,confusion_matrix\n",
    "from sklearn.metrics import accuracy_score ,confusion_matrix,classification_report,plot_confusion_matrix"
   ]
  },
  {
   "cell_type": "markdown",
   "metadata": {},
   "source": [
    "## 3. Load Data"
   ]
  },
  {
   "cell_type": "code",
   "execution_count": 2,
   "metadata": {},
   "outputs": [],
   "source": [
    "df=pd.read_csv('/Users/lauren/Desktop/diabetes_data_cleaned.csv')"
   ]
  },
  {
   "cell_type": "markdown",
   "metadata": {},
   "source": [
    "## 4. Explore the Data"
   ]
  },
  {
   "cell_type": "code",
   "execution_count": 3,
   "metadata": {},
   "outputs": [
    {
     "data": {
      "text/html": [
       "<div>\n",
       "<style scoped>\n",
       "    .dataframe tbody tr th:only-of-type {\n",
       "        vertical-align: middle;\n",
       "    }\n",
       "\n",
       "    .dataframe tbody tr th {\n",
       "        vertical-align: top;\n",
       "    }\n",
       "\n",
       "    .dataframe thead th {\n",
       "        text-align: right;\n",
       "    }\n",
       "</style>\n",
       "<table border=\"1\" class=\"dataframe\">\n",
       "  <thead>\n",
       "    <tr style=\"text-align: right;\">\n",
       "      <th></th>\n",
       "      <th>Unnamed: 0</th>\n",
       "      <th>Diabetes_binary</th>\n",
       "      <th>HighBP</th>\n",
       "      <th>HighChol</th>\n",
       "      <th>CholCheck</th>\n",
       "      <th>BMI</th>\n",
       "      <th>Smoker</th>\n",
       "      <th>Stroke</th>\n",
       "      <th>HeartDiseaseorAttack</th>\n",
       "      <th>PhysActivity</th>\n",
       "      <th>...</th>\n",
       "      <th>AnyHealthcare</th>\n",
       "      <th>NoDocbcCost</th>\n",
       "      <th>GenHlth</th>\n",
       "      <th>MentHlth</th>\n",
       "      <th>PhysHlth</th>\n",
       "      <th>DiffWalk</th>\n",
       "      <th>Sex</th>\n",
       "      <th>Age</th>\n",
       "      <th>Education</th>\n",
       "      <th>Income</th>\n",
       "    </tr>\n",
       "  </thead>\n",
       "  <tbody>\n",
       "    <tr>\n",
       "      <th>0</th>\n",
       "      <td>0</td>\n",
       "      <td>0</td>\n",
       "      <td>1</td>\n",
       "      <td>0</td>\n",
       "      <td>1</td>\n",
       "      <td>26</td>\n",
       "      <td>0</td>\n",
       "      <td>0</td>\n",
       "      <td>0</td>\n",
       "      <td>1</td>\n",
       "      <td>...</td>\n",
       "      <td>1</td>\n",
       "      <td>0</td>\n",
       "      <td>3</td>\n",
       "      <td>5</td>\n",
       "      <td>30</td>\n",
       "      <td>0</td>\n",
       "      <td>1</td>\n",
       "      <td>4</td>\n",
       "      <td>6</td>\n",
       "      <td>8</td>\n",
       "    </tr>\n",
       "    <tr>\n",
       "      <th>1</th>\n",
       "      <td>1</td>\n",
       "      <td>0</td>\n",
       "      <td>1</td>\n",
       "      <td>1</td>\n",
       "      <td>1</td>\n",
       "      <td>26</td>\n",
       "      <td>1</td>\n",
       "      <td>1</td>\n",
       "      <td>0</td>\n",
       "      <td>0</td>\n",
       "      <td>...</td>\n",
       "      <td>1</td>\n",
       "      <td>0</td>\n",
       "      <td>3</td>\n",
       "      <td>0</td>\n",
       "      <td>0</td>\n",
       "      <td>0</td>\n",
       "      <td>1</td>\n",
       "      <td>12</td>\n",
       "      <td>6</td>\n",
       "      <td>8</td>\n",
       "    </tr>\n",
       "    <tr>\n",
       "      <th>2</th>\n",
       "      <td>2</td>\n",
       "      <td>0</td>\n",
       "      <td>0</td>\n",
       "      <td>0</td>\n",
       "      <td>1</td>\n",
       "      <td>26</td>\n",
       "      <td>0</td>\n",
       "      <td>0</td>\n",
       "      <td>0</td>\n",
       "      <td>1</td>\n",
       "      <td>...</td>\n",
       "      <td>1</td>\n",
       "      <td>0</td>\n",
       "      <td>1</td>\n",
       "      <td>0</td>\n",
       "      <td>10</td>\n",
       "      <td>0</td>\n",
       "      <td>1</td>\n",
       "      <td>13</td>\n",
       "      <td>6</td>\n",
       "      <td>8</td>\n",
       "    </tr>\n",
       "    <tr>\n",
       "      <th>3</th>\n",
       "      <td>3</td>\n",
       "      <td>0</td>\n",
       "      <td>1</td>\n",
       "      <td>1</td>\n",
       "      <td>1</td>\n",
       "      <td>28</td>\n",
       "      <td>1</td>\n",
       "      <td>0</td>\n",
       "      <td>0</td>\n",
       "      <td>1</td>\n",
       "      <td>...</td>\n",
       "      <td>1</td>\n",
       "      <td>0</td>\n",
       "      <td>3</td>\n",
       "      <td>0</td>\n",
       "      <td>3</td>\n",
       "      <td>0</td>\n",
       "      <td>1</td>\n",
       "      <td>11</td>\n",
       "      <td>6</td>\n",
       "      <td>8</td>\n",
       "    </tr>\n",
       "    <tr>\n",
       "      <th>4</th>\n",
       "      <td>4</td>\n",
       "      <td>0</td>\n",
       "      <td>0</td>\n",
       "      <td>0</td>\n",
       "      <td>1</td>\n",
       "      <td>29</td>\n",
       "      <td>1</td>\n",
       "      <td>0</td>\n",
       "      <td>0</td>\n",
       "      <td>1</td>\n",
       "      <td>...</td>\n",
       "      <td>1</td>\n",
       "      <td>0</td>\n",
       "      <td>2</td>\n",
       "      <td>0</td>\n",
       "      <td>0</td>\n",
       "      <td>0</td>\n",
       "      <td>0</td>\n",
       "      <td>8</td>\n",
       "      <td>5</td>\n",
       "      <td>8</td>\n",
       "    </tr>\n",
       "  </tbody>\n",
       "</table>\n",
       "<p>5 rows × 23 columns</p>\n",
       "</div>"
      ],
      "text/plain": [
       "   Unnamed: 0  Diabetes_binary  HighBP  HighChol  CholCheck  BMI  Smoker  \\\n",
       "0           0                0       1         0          1   26       0   \n",
       "1           1                0       1         1          1   26       1   \n",
       "2           2                0       0         0          1   26       0   \n",
       "3           3                0       1         1          1   28       1   \n",
       "4           4                0       0         0          1   29       1   \n",
       "\n",
       "   Stroke  HeartDiseaseorAttack  PhysActivity  ...  AnyHealthcare  \\\n",
       "0       0                     0             1  ...              1   \n",
       "1       1                     0             0  ...              1   \n",
       "2       0                     0             1  ...              1   \n",
       "3       0                     0             1  ...              1   \n",
       "4       0                     0             1  ...              1   \n",
       "\n",
       "   NoDocbcCost  GenHlth  MentHlth  PhysHlth  DiffWalk  Sex  Age  Education  \\\n",
       "0            0        3         5        30         0    1    4          6   \n",
       "1            0        3         0         0         0    1   12          6   \n",
       "2            0        1         0        10         0    1   13          6   \n",
       "3            0        3         0         3         0    1   11          6   \n",
       "4            0        2         0         0         0    0    8          5   \n",
       "\n",
       "   Income  \n",
       "0       8  \n",
       "1       8  \n",
       "2       8  \n",
       "3       8  \n",
       "4       8  \n",
       "\n",
       "[5 rows x 23 columns]"
      ]
     },
     "execution_count": 3,
     "metadata": {},
     "output_type": "execute_result"
    }
   ],
   "source": [
    "df.head()"
   ]
  },
  {
   "cell_type": "code",
   "execution_count": 4,
   "metadata": {},
   "outputs": [
    {
     "name": "stdout",
     "output_type": "stream",
     "text": [
      "<class 'pandas.core.frame.DataFrame'>\n",
      "RangeIndex: 70692 entries, 0 to 70691\n",
      "Data columns (total 23 columns):\n",
      " #   Column                Non-Null Count  Dtype\n",
      "---  ------                --------------  -----\n",
      " 0   Unnamed: 0            70692 non-null  int64\n",
      " 1   Diabetes_binary       70692 non-null  int64\n",
      " 2   HighBP                70692 non-null  int64\n",
      " 3   HighChol              70692 non-null  int64\n",
      " 4   CholCheck             70692 non-null  int64\n",
      " 5   BMI                   70692 non-null  int64\n",
      " 6   Smoker                70692 non-null  int64\n",
      " 7   Stroke                70692 non-null  int64\n",
      " 8   HeartDiseaseorAttack  70692 non-null  int64\n",
      " 9   PhysActivity          70692 non-null  int64\n",
      " 10  Fruits                70692 non-null  int64\n",
      " 11  Veggies               70692 non-null  int64\n",
      " 12  HvyAlcoholConsump     70692 non-null  int64\n",
      " 13  AnyHealthcare         70692 non-null  int64\n",
      " 14  NoDocbcCost           70692 non-null  int64\n",
      " 15  GenHlth               70692 non-null  int64\n",
      " 16  MentHlth              70692 non-null  int64\n",
      " 17  PhysHlth              70692 non-null  int64\n",
      " 18  DiffWalk              70692 non-null  int64\n",
      " 19  Sex                   70692 non-null  int64\n",
      " 20  Age                   70692 non-null  int64\n",
      " 21  Education             70692 non-null  int64\n",
      " 22  Income                70692 non-null  int64\n",
      "dtypes: int64(23)\n",
      "memory usage: 12.4 MB\n"
     ]
    }
   ],
   "source": [
    "df.info()"
   ]
  },
  {
   "cell_type": "code",
   "execution_count": 5,
   "metadata": {},
   "outputs": [
    {
     "data": {
      "text/plain": [
       "(70692, 23)"
      ]
     },
     "execution_count": 5,
     "metadata": {},
     "output_type": "execute_result"
    }
   ],
   "source": [
    "df.shape"
   ]
  },
  {
   "cell_type": "code",
   "execution_count": 6,
   "metadata": {},
   "outputs": [
    {
     "data": {
      "text/plain": [
       "Unnamed: 0              int64\n",
       "Diabetes_binary         int64\n",
       "HighBP                  int64\n",
       "HighChol                int64\n",
       "CholCheck               int64\n",
       "BMI                     int64\n",
       "Smoker                  int64\n",
       "Stroke                  int64\n",
       "HeartDiseaseorAttack    int64\n",
       "PhysActivity            int64\n",
       "Fruits                  int64\n",
       "Veggies                 int64\n",
       "HvyAlcoholConsump       int64\n",
       "AnyHealthcare           int64\n",
       "NoDocbcCost             int64\n",
       "GenHlth                 int64\n",
       "MentHlth                int64\n",
       "PhysHlth                int64\n",
       "DiffWalk                int64\n",
       "Sex                     int64\n",
       "Age                     int64\n",
       "Education               int64\n",
       "Income                  int64\n",
       "dtype: object"
      ]
     },
     "execution_count": 6,
     "metadata": {},
     "output_type": "execute_result"
    }
   ],
   "source": [
    "df.dtypes"
   ]
  },
  {
   "cell_type": "code",
   "execution_count": 7,
   "metadata": {},
   "outputs": [
    {
     "data": {
      "text/plain": [
       "Unnamed: 0              0\n",
       "Diabetes_binary         0\n",
       "HighBP                  0\n",
       "HighChol                0\n",
       "CholCheck               0\n",
       "BMI                     0\n",
       "Smoker                  0\n",
       "Stroke                  0\n",
       "HeartDiseaseorAttack    0\n",
       "PhysActivity            0\n",
       "Fruits                  0\n",
       "Veggies                 0\n",
       "HvyAlcoholConsump       0\n",
       "AnyHealthcare           0\n",
       "NoDocbcCost             0\n",
       "GenHlth                 0\n",
       "MentHlth                0\n",
       "PhysHlth                0\n",
       "DiffWalk                0\n",
       "Sex                     0\n",
       "Age                     0\n",
       "Education               0\n",
       "Income                  0\n",
       "dtype: int64"
      ]
     },
     "execution_count": 7,
     "metadata": {},
     "output_type": "execute_result"
    }
   ],
   "source": [
    "df.isnull().sum()"
   ]
  },
  {
   "cell_type": "code",
   "execution_count": 9,
   "metadata": {},
   "outputs": [
    {
     "name": "stdout",
     "output_type": "stream",
     "text": [
      "<class 'pandas.core.frame.DataFrame'>\n",
      "RangeIndex: 70692 entries, 0 to 70691\n",
      "Data columns (total 22 columns):\n",
      " #   Column                Non-Null Count  Dtype\n",
      "---  ------                --------------  -----\n",
      " 0   Diabetes_binary       70692 non-null  int64\n",
      " 1   HighBP                70692 non-null  int64\n",
      " 2   HighChol              70692 non-null  int64\n",
      " 3   CholCheck             70692 non-null  int64\n",
      " 4   BMI                   70692 non-null  int64\n",
      " 5   Smoker                70692 non-null  int64\n",
      " 6   Stroke                70692 non-null  int64\n",
      " 7   HeartDiseaseorAttack  70692 non-null  int64\n",
      " 8   PhysActivity          70692 non-null  int64\n",
      " 9   Fruits                70692 non-null  int64\n",
      " 10  Veggies               70692 non-null  int64\n",
      " 11  HvyAlcoholConsump     70692 non-null  int64\n",
      " 12  AnyHealthcare         70692 non-null  int64\n",
      " 13  NoDocbcCost           70692 non-null  int64\n",
      " 14  GenHlth               70692 non-null  int64\n",
      " 15  MentHlth              70692 non-null  int64\n",
      " 16  PhysHlth              70692 non-null  int64\n",
      " 17  DiffWalk              70692 non-null  int64\n",
      " 18  Sex                   70692 non-null  int64\n",
      " 19  Age                   70692 non-null  int64\n",
      " 20  Education             70692 non-null  int64\n",
      " 21  Income                70692 non-null  int64\n",
      "dtypes: int64(22)\n",
      "memory usage: 11.9 MB\n"
     ]
    }
   ],
   "source": [
    "df = df.drop(['Unnamed: 0'], axis = 1)\n",
    "df.info()"
   ]
  },
  {
   "cell_type": "markdown",
   "metadata": {},
   "source": [
    "Of our target variable, \"Diabetes_binary\", how many participants were diagnosed with either pre-diabetes or diabetes and how many were not diagnosed with diabetes?  Let's find out."
   ]
  },
  {
   "cell_type": "code",
   "execution_count": 8,
   "metadata": {},
   "outputs": [
    {
     "data": {
      "image/png": "[encoded data removed]",
      "text/plain": [
       "<Figure size 504x504 with 1 Axes>"
      ]
     },
     "metadata": {},
     "output_type": "display_data"
    }
   ],
   "source": [
    "labels = df['Diabetes_binary'].value_counts().index\n",
    "sizes = df['Diabetes_binary'].value_counts()\n",
    "plt.figure(figsize = (7,7))\n",
    "plt.pie(sizes, labels=labels, autopct='%1.1f%%',colors = ['#06C2AC','#40E0D0'])\n",
    "plt.title('Pre-Diabetic or Diabetic Participants vs Non-Diabetic Participants',color = 'black',fontsize = 18);"
   ]
  },
  {
   "cell_type": "markdown",
   "metadata": {},
   "source": [
    "## 5. Dummy Variables"
   ]
  },
  {
   "cell_type": "markdown",
   "metadata": {},
   "source": [
    "To use categorical variables in a machine learning model, we first need to represent them in a quantitative way.  In order to do that, we use dummy variables.\n",
    "\n",
    "However, in this particular dataset we do not need to use dummy variables as all of the data has already been represented quantitatively."
   ]
  },
  {
   "cell_type": "markdown",
   "metadata": {},
   "source": [
    "## 6. Train/Test Split"
   ]
  },
  {
   "cell_type": "markdown",
   "metadata": {},
   "source": [
    "We need to split the data into a training set and a testing set.\n",
    "\n",
    "First, let's determine the partition sizes for a 70/30 train/test split:"
   ]
  },
  {
   "cell_type": "code",
   "execution_count": 10,
   "metadata": {},
   "outputs": [
    {
     "data": {
      "text/plain": [
       "(49484.399999999994, 21207.6)"
      ]
     },
     "execution_count": 10,
     "metadata": {},
     "output_type": "execute_result"
    }
   ],
   "source": [
    "len(df) * .7, len(df) * .3"
   ]
  },
  {
   "cell_type": "code",
   "execution_count": 11,
   "metadata": {},
   "outputs": [],
   "source": [
    "df = df.reset_index()\n",
    "\n",
    "X_train, X_test, y_train, y_test = train_test_split(df.drop(columns = ['Diabetes_binary']),\n",
    "                                                    df.Diabetes_binary, stratify=df.Diabetes_binary,\n",
    "                                                    test_size = 0.3,\n",
    "                                                    random_state = 47)"
   ]
  },
  {
   "cell_type": "markdown",
   "metadata": {},
   "source": [
    "We performed a stratified train/test split of the dataset.  Stratification is done for classifition machine learning problems to avoid overfitting or underfitting, as it helps to ensure that the target variable (in this case, \"Diabetes_binary\") will have the same distribution in our training data."
   ]
  },
  {
   "cell_type": "code",
   "execution_count": 12,
   "metadata": {},
   "outputs": [
    {
     "data": {
      "text/plain": [
       "((49484, 22), (21208, 22))"
      ]
     },
     "execution_count": 12,
     "metadata": {},
     "output_type": "execute_result"
    }
   ],
   "source": [
    "X_train.shape, X_test.shape"
   ]
  },
  {
   "cell_type": "code",
   "execution_count": 13,
   "metadata": {},
   "outputs": [
    {
     "data": {
      "text/plain": [
       "((49484,), (21208,))"
      ]
     },
     "execution_count": 13,
     "metadata": {},
     "output_type": "execute_result"
    }
   ],
   "source": [
    "y_train.shape, y_test.shape"
   ]
  },
  {
   "cell_type": "code",
   "execution_count": 14,
   "metadata": {},
   "outputs": [
    {
     "name": "stdout",
     "output_type": "stream",
     "text": [
      "\n",
      "\n",
      "[Test] Accuracy score (y_predict_test, y_test): 0.9629856657864957\n",
      "\n",
      "\n",
      "[Test] Accuracy score: (y_test, y_predict_test) 0.9629856657864957\n",
      "\n",
      "\n",
      "[Training] Accuracy score: (y_train, y_predict_training) 0.9633416862016005\n"
     ]
    }
   ],
   "source": [
    "# Construct the LogisticRegression model\n",
    "clf = LogisticRegression(max_iter=1000)\n",
    "\n",
    "# Fit the model on the training data.\n",
    "clf.fit(X_train, y_train) \n",
    "\n",
    "# Print the accuracy from the testing data.\n",
    "# Introduce variable to be reused later\n",
    "y_predict_test = clf.predict(X_test)\n",
    "print(\"\\n\")\n",
    "print(\"[Test] Accuracy score (y_predict_test, y_test):\",accuracy_score(y_predict_test, y_test))\n",
    "\n",
    "# Note the order in which the parameters must be passed\n",
    "# according to the documentation ... although there should be\n",
    "# no difference since it is a one-to-one comparison ...\n",
    "# ref: http://scikit-learn.org/stable/modules/generated/sklearn.metrics.accuracy_score.html#sklearn.metrics.accuracy_score\n",
    "print(\"\\n\")\n",
    "print(\"[Test] Accuracy score: (y_test, y_predict_test)\",accuracy_score(y_test, y_predict_test))\n",
    "\n",
    "y_predict_training = clf.predict(X_train)\n",
    "print(\"\\n\")\n",
    "print(\"[Training] Accuracy score: (y_train, y_predict_training)\",accuracy_score(y_train, y_predict_training))"
   ]
  },
  {
   "cell_type": "code",
   "execution_count": 15,
   "metadata": {},
   "outputs": [
    {
     "name": "stdout",
     "output_type": "stream",
     "text": [
      "[Training Classification Report]\n",
      "              precision    recall  f1-score   support\n",
      "\n",
      "           0       0.97      0.96      0.96     24742\n",
      "           1       0.96      0.97      0.96     24742\n",
      "\n",
      "    accuracy                           0.96     49484\n",
      "   macro avg       0.96      0.96      0.96     49484\n",
      "weighted avg       0.96      0.96      0.96     49484\n",
      "\n",
      "[Test Classification Report]\n",
      "              precision    recall  f1-score   support\n",
      "\n",
      "           0       0.97      0.96      0.96     10604\n",
      "           1       0.96      0.97      0.96     10604\n",
      "\n",
      "    accuracy                           0.96     21208\n",
      "   macro avg       0.96      0.96      0.96     21208\n",
      "weighted avg       0.96      0.96      0.96     21208\n",
      "\n"
     ]
    }
   ],
   "source": [
    "from sklearn.metrics import classification_report\n",
    "# ref: http://scikit-learn.org/stable/modules/generated/sklearn.metrics.classification_report.html#sklearn.metrics.classification_report\n",
    "\n",
    "print(\"[Training Classification Report]\")\n",
    "print(classification_report(y_train, y_predict_training))\n",
    "\n",
    "print(\"[Test Classification Report]\")\n",
    "print(classification_report(y_test, y_predict_test))"
   ]
  },
  {
   "cell_type": "markdown",
   "metadata": {},
   "source": [
    "The above details the precision, recall, and f1-score for both the training and test datasets.  Precision refers to the number of class predictions that belong to the specific class, while recall refers to the number of positive class predictions made out of all the positive examples in the entire dataset.  Please note, that the reverse is also true.  The f1-score refers to the mean between precision and recall, and generally speaking, higher f1 scores are better.\n",
    "\n",
    "So what is the above telling us?  The precision, recall, and f1-scores between both datasets is the same for 0 (which equates to Non-Diabetic), and the same with our target variable, 1 (which equates to Pre-Diabetic or Diabetic).  \n",
    "\n",
    "This report is also showing us how much support there is for each variable.  As expected, the training dataset is much larger than the testing dataset.  "
   ]
  },
  {
   "cell_type": "code",
   "execution_count": 17,
   "metadata": {},
   "outputs": [
    {
     "data": {
      "text/plain": [
       "Text(0.5, 15.0, 'Predicted')"
      ]
     },
     "execution_count": 17,
     "metadata": {},
     "output_type": "execute_result"
    },
    {
     "data": {
      "image/png": "[encoded data removed]",
      "text/plain": [
       "<Figure size 432x288 with 2 Axes>"
      ]
     },
     "metadata": {
      "needs_background": "light"
     },
     "output_type": "display_data"
    }
   ],
   "source": [
    "from sklearn import metrics\n",
    "matrix = metrics.confusion_matrix(y_test, y_predict_test)\n",
    "\n",
    "fig, ax = plt.subplots()\n",
    "\n",
    "# create heatmap\n",
    "sns.heatmap(pd.DataFrame(matrix), annot=True, cmap=\"Blues\" ,fmt='g')\n",
    "\n",
    "plt.tight_layout()\n",
    "plt.title('Confusion Matrix')\n",
    "plt.ylabel('True')\n",
    "plt.xlabel('Predicted')"
   ]
  },
  {
   "cell_type": "code",
   "execution_count": 18,
   "metadata": {},
   "outputs": [
    {
     "name": "stdout",
     "output_type": "stream",
     "text": [
      "0.9629856657864957\n"
     ]
    }
   ],
   "source": [
    "accuracy = (10254+10169)/(10169+435+350+10254)\n",
    "print(accuracy)"
   ]
  },
  {
   "cell_type": "markdown",
   "metadata": {},
   "source": [
    "The above depicts a confusion matrix.  Confusion matrices are useful for measuring recall, precision, and accuracy.  It is a visual representation of actual versus predicted values.  There are four elements of a confusion matrix:\n",
    "\n",
    "True Positive: The values which were actually positive and were predicted positive.\n",
    "\n",
    "False Positive: The values which were actually negative but falsely predicted as positive. Also known as Type I Error.\n",
    "\n",
    "False Negative: The values which were actually positive but falsely predicted as negative. Also known as Type II Error.\n",
    "\n",
    "True Negative: The values which were actually negative and were predicted negative.\n",
    "\n",
    "So knowing that, the above confusion matrix illustrates the following:\n",
    "\n",
    "True Positives = 10,254\n",
    "\n",
    "False Positives = 435\n",
    "\n",
    "False Negatives = 350\n",
    "\n",
    "True Negatives = 10,169\n",
    "\n",
    "The accuracy of the confusion matrix is approximately 0.9630. "
   ]
  },
  {
   "cell_type": "markdown",
   "metadata": {},
   "source": [
    "In this notebook we have examined the data, pre-processed it, performed a train/test split, and constructed a Logistic Regression model.  The Logistic Regression model fit the data very well, as we can see with the classification report and confusion matrix.  "
   ]
  },
  {
   "cell_type": "code",
   "execution_count": 20,
   "metadata": {},
   "outputs": [],
   "source": [
    "#save the data to a new csv file\n",
    "df.to_csv('/Users/lauren/Desktop/Diabetes_dataset.csv')\n",
    "X_train.to_csv('/Users/lauren/Desktop/Diabetes_X_train.csv')\n",
    "X_test.to_csv('/Users/lauren/Desktop/Diabetes_X_test.csv')\n",
    "y_train.to_csv('/Users/lauren/Desktop/Diabetes_y_train.csv')\n",
    "y_test.to_csv('/Users/lauren/Desktop/Diabetes_y_test.csv')"
   ]
  },
  {
   "cell_type": "code",
   "execution_count": null,
   "metadata": {},
   "outputs": [],
   "source": []
  }
 ],
 "metadata": {
  "kernelspec": {
   "display_name": "Python 3",
   "language": "python",
   "name": "python3"
  },
  "language_info": {
   "codemirror_mode": {
    "name": "ipython",
    "version": 3
   },
   "file_extension": ".py",
   "mimetype": "text/x-python",
   "name": "python",
   "nbconvert_exporter": "python",
   "pygments_lexer": "ipython3",
   "version": "3.8.5"
  }
 },
 "nbformat": 4,
 "nbformat_minor": 4
}
